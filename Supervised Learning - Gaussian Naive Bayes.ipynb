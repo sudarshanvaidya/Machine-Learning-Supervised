{
 "cells": [
  {
   "cell_type": "markdown",
   "metadata": {},
   "source": [
    "# Supervised Learning using Gaussian Naive Bayes"
   ]
  },
  {
   "cell_type": "markdown",
   "metadata": {},
   "source": [
    "## Steps"
   ]
  },
  {
   "cell_type": "markdown",
   "metadata": {},
   "source": [
    "1. EDA - including missing value replacement and correlation analysis \n",
    "2. Check for normality and identify predictors\n",
    "3. Attribute selection & build GNB iteration 1 \n",
    "4. Attribute selection & build GNB iteration 2 \n",
    "5. Calculate and compare Accuracy Confusion Matrix and RoC "
   ]
  },
  {
   "cell_type": "markdown",
   "metadata": {},
   "source": [
    "## Import of necessary packages "
   ]
  },
  {
   "cell_type": "code",
   "execution_count": 1,
   "metadata": {},
   "outputs": [],
   "source": [
    "# Pandas and Numpy libraries\n",
    "import pandas as pd\n",
    "import numpy as np\n",
    "\n",
    "# For preprocessing the data\n",
    "from sklearn.preprocessing import Imputer\n",
    "from sklearn import preprocessing\n",
    "from sklearn.preprocessing import StandardScaler\n",
    "\n",
    "# To split the dataset into train and test datasets\n",
    "from sklearn.model_selection import train_test_split\n",
    "\n",
    "# To model the Gaussian Navie Bayes classifier\n",
    "from sklearn.naive_bayes import GaussianNB\n",
    "\n",
    "# To calculate the accuracy score of the model\n",
    "from sklearn.metrics import accuracy_score\n",
    "\n",
    "# To build the Confusion Matrix\n",
    "from sklearn.metrics import confusion_matrix\n",
    "\n",
    "# To report the prediction shape \n",
    "from sklearn.metrics import classification_report, roc_curve, roc_auc_score\n",
    "\n",
    "# To use Shapiro test for normality \n",
    "from scipy.stats import shapiro\n",
    "\n",
    "# To plot graphs (visualization)\n",
    "import seaborn as sns\n",
    "sns.set(color_codes=True)\n",
    "sns.set(style=\"darkgrid\")\n",
    "import matplotlib.pyplot as plt\n",
    "%matplotlib inline "
   ]
  },
  {
   "cell_type": "markdown",
   "metadata": {},
   "source": [
    "## Dataset attribute information\n",
    " 1. Number of times pregnant \n",
    " 2. Plasma glucose concentration a 2 hours in an oral glucose tolerance test \n",
    " 3. Diastolic blood pressure (mm Hg) \n",
    " 4. Triceps skin fold thickness (mm) \n",
    " 5. 2-Hour serum insulin (mu U/ml) \n",
    " 6. Body mass index (weight in kg/(height in m)^2) \n",
    " 7. Diabetes pedigree function \n",
    " 8. Age (years) \n",
    " 9. Class variable (0 or 1)"
   ]
  },
  {
   "cell_type": "markdown",
   "metadata": {},
   "source": [
    "## Dataset loading and basic analysis "
   ]
  },
  {
   "cell_type": "code",
   "execution_count": 2,
   "metadata": {},
   "outputs": [],
   "source": [
    "PIMA_data = pd.read_csv(\"pima-indians-diabetes+(3).csv\")"
   ]
  },
  {
   "cell_type": "markdown",
   "metadata": {},
   "source": [
    "##### A quick look at the data set, columns and values using head()"
   ]
  },
  {
   "cell_type": "code",
   "execution_count": 3,
   "metadata": {},
   "outputs": [
    {
     "data": {
      "text/html": [
       "<div>\n",
       "<style scoped>\n",
       "    .dataframe tbody tr th:only-of-type {\n",
       "        vertical-align: middle;\n",
       "    }\n",
       "\n",
       "    .dataframe tbody tr th {\n",
       "        vertical-align: top;\n",
       "    }\n",
       "\n",
       "    .dataframe thead th {\n",
       "        text-align: right;\n",
       "    }\n",
       "</style>\n",
       "<table border=\"1\" class=\"dataframe\">\n",
       "  <thead>\n",
       "    <tr style=\"text-align: right;\">\n",
       "      <th></th>\n",
       "      <th>Preg</th>\n",
       "      <th>Plas</th>\n",
       "      <th>Pres</th>\n",
       "      <th>skin</th>\n",
       "      <th>test</th>\n",
       "      <th>mass</th>\n",
       "      <th>pedi</th>\n",
       "      <th>age</th>\n",
       "      <th>class</th>\n",
       "    </tr>\n",
       "  </thead>\n",
       "  <tbody>\n",
       "    <tr>\n",
       "      <th>0</th>\n",
       "      <td>6</td>\n",
       "      <td>148</td>\n",
       "      <td>72</td>\n",
       "      <td>35</td>\n",
       "      <td>0</td>\n",
       "      <td>33.6</td>\n",
       "      <td>0.627</td>\n",
       "      <td>50</td>\n",
       "      <td>1</td>\n",
       "    </tr>\n",
       "    <tr>\n",
       "      <th>1</th>\n",
       "      <td>1</td>\n",
       "      <td>85</td>\n",
       "      <td>66</td>\n",
       "      <td>29</td>\n",
       "      <td>0</td>\n",
       "      <td>26.6</td>\n",
       "      <td>0.351</td>\n",
       "      <td>31</td>\n",
       "      <td>0</td>\n",
       "    </tr>\n",
       "    <tr>\n",
       "      <th>2</th>\n",
       "      <td>8</td>\n",
       "      <td>183</td>\n",
       "      <td>64</td>\n",
       "      <td>0</td>\n",
       "      <td>0</td>\n",
       "      <td>23.3</td>\n",
       "      <td>0.672</td>\n",
       "      <td>32</td>\n",
       "      <td>1</td>\n",
       "    </tr>\n",
       "    <tr>\n",
       "      <th>3</th>\n",
       "      <td>1</td>\n",
       "      <td>89</td>\n",
       "      <td>66</td>\n",
       "      <td>23</td>\n",
       "      <td>94</td>\n",
       "      <td>28.1</td>\n",
       "      <td>0.167</td>\n",
       "      <td>21</td>\n",
       "      <td>0</td>\n",
       "    </tr>\n",
       "    <tr>\n",
       "      <th>4</th>\n",
       "      <td>0</td>\n",
       "      <td>137</td>\n",
       "      <td>40</td>\n",
       "      <td>35</td>\n",
       "      <td>168</td>\n",
       "      <td>43.1</td>\n",
       "      <td>2.288</td>\n",
       "      <td>33</td>\n",
       "      <td>1</td>\n",
       "    </tr>\n",
       "  </tbody>\n",
       "</table>\n",
       "</div>"
      ],
      "text/plain": [
       "   Preg  Plas  Pres  skin  test  mass   pedi  age  class\n",
       "0     6   148    72    35     0  33.6  0.627   50      1\n",
       "1     1    85    66    29     0  26.6  0.351   31      0\n",
       "2     8   183    64     0     0  23.3  0.672   32      1\n",
       "3     1    89    66    23    94  28.1  0.167   21      0\n",
       "4     0   137    40    35   168  43.1  2.288   33      1"
      ]
     },
     "execution_count": 3,
     "metadata": {},
     "output_type": "execute_result"
    }
   ],
   "source": [
    "PIMA_data.head()"
   ]
  },
  {
   "cell_type": "markdown",
   "metadata": {},
   "source": [
    "##### Check dimensions of the data set in terms of rows and columns using shape and size"
   ]
  },
  {
   "cell_type": "code",
   "execution_count": 4,
   "metadata": {},
   "outputs": [
    {
     "name": "stdout",
     "output_type": "stream",
     "text": [
      "(768, 9)\n"
     ]
    }
   ],
   "source": [
    "print(PIMA_data.shape)"
   ]
  },
  {
   "cell_type": "code",
   "execution_count": 5,
   "metadata": {},
   "outputs": [
    {
     "name": "stdout",
     "output_type": "stream",
     "text": [
      "6912\n"
     ]
    }
   ],
   "source": [
    "print(PIMA_data.size)"
   ]
  },
  {
   "cell_type": "markdown",
   "metadata": {},
   "source": [
    "##### Explore the data set in terms of its columns, null values, data types, memory etc. using info()"
   ]
  },
  {
   "cell_type": "code",
   "execution_count": 6,
   "metadata": {},
   "outputs": [
    {
     "name": "stdout",
     "output_type": "stream",
     "text": [
      "<class 'pandas.core.frame.DataFrame'>\n",
      "RangeIndex: 768 entries, 0 to 767\n",
      "Data columns (total 9 columns):\n",
      "Preg     768 non-null int64\n",
      "Plas     768 non-null int64\n",
      "Pres     768 non-null int64\n",
      "skin     768 non-null int64\n",
      "test     768 non-null int64\n",
      "mass     768 non-null float64\n",
      "pedi     768 non-null float64\n",
      "age      768 non-null int64\n",
      "class    768 non-null int64\n",
      "dtypes: float64(2), int64(7)\n",
      "memory usage: 54.1 KB\n"
     ]
    }
   ],
   "source": [
    "PIMA_data.info()"
   ]
  },
  {
   "cell_type": "markdown",
   "metadata": {},
   "source": [
    "##### Data set has no null values for any of its columns, as all columns have 768 non-null values which is equal to the total count of rows. "
   ]
  },
  {
   "cell_type": "code",
   "execution_count": 7,
   "metadata": {},
   "outputs": [],
   "source": [
    "PIMA_data.columns = ['Pregnancies','Glucose','BloodPressure',\n",
    "                     'SkinThickness','Insulin','BMI','DiabetesPedigreeFunction','Age','Outcome']"
   ]
  },
  {
   "cell_type": "code",
   "execution_count": 8,
   "metadata": {},
   "outputs": [
    {
     "data": {
      "text/plain": [
       "Outcome\n",
       "0    500\n",
       "1    268\n",
       "dtype: int64"
      ]
     },
     "execution_count": 8,
     "metadata": {},
     "output_type": "execute_result"
    }
   ],
   "source": [
    "PIMA_data.groupby(\"Outcome\").size()"
   ]
  },
  {
   "cell_type": "markdown",
   "metadata": {},
   "source": [
    "##### Data seems to be skewed in terms of the Outcome"
   ]
  },
  {
   "cell_type": "markdown",
   "metadata": {},
   "source": [
    "##### Explore the continuous variables in terms of their range and basic statistics using describe() "
   ]
  },
  {
   "cell_type": "code",
   "execution_count": 9,
   "metadata": {},
   "outputs": [
    {
     "data": {
      "text/html": [
       "<div>\n",
       "<style scoped>\n",
       "    .dataframe tbody tr th:only-of-type {\n",
       "        vertical-align: middle;\n",
       "    }\n",
       "\n",
       "    .dataframe tbody tr th {\n",
       "        vertical-align: top;\n",
       "    }\n",
       "\n",
       "    .dataframe thead th {\n",
       "        text-align: right;\n",
       "    }\n",
       "</style>\n",
       "<table border=\"1\" class=\"dataframe\">\n",
       "  <thead>\n",
       "    <tr style=\"text-align: right;\">\n",
       "      <th></th>\n",
       "      <th>Pregnancies</th>\n",
       "      <th>Glucose</th>\n",
       "      <th>BloodPressure</th>\n",
       "      <th>SkinThickness</th>\n",
       "      <th>Insulin</th>\n",
       "      <th>BMI</th>\n",
       "      <th>DiabetesPedigreeFunction</th>\n",
       "      <th>Age</th>\n",
       "      <th>Outcome</th>\n",
       "    </tr>\n",
       "  </thead>\n",
       "  <tbody>\n",
       "    <tr>\n",
       "      <th>count</th>\n",
       "      <td>768.000000</td>\n",
       "      <td>768.000000</td>\n",
       "      <td>768.000000</td>\n",
       "      <td>768.000000</td>\n",
       "      <td>768.000000</td>\n",
       "      <td>768.000000</td>\n",
       "      <td>768.000000</td>\n",
       "      <td>768.000000</td>\n",
       "      <td>768.000000</td>\n",
       "    </tr>\n",
       "    <tr>\n",
       "      <th>mean</th>\n",
       "      <td>3.845052</td>\n",
       "      <td>120.894531</td>\n",
       "      <td>69.105469</td>\n",
       "      <td>20.536458</td>\n",
       "      <td>79.799479</td>\n",
       "      <td>31.992578</td>\n",
       "      <td>0.471876</td>\n",
       "      <td>33.240885</td>\n",
       "      <td>0.348958</td>\n",
       "    </tr>\n",
       "    <tr>\n",
       "      <th>std</th>\n",
       "      <td>3.369578</td>\n",
       "      <td>31.972618</td>\n",
       "      <td>19.355807</td>\n",
       "      <td>15.952218</td>\n",
       "      <td>115.244002</td>\n",
       "      <td>7.884160</td>\n",
       "      <td>0.331329</td>\n",
       "      <td>11.760232</td>\n",
       "      <td>0.476951</td>\n",
       "    </tr>\n",
       "    <tr>\n",
       "      <th>min</th>\n",
       "      <td>0.000000</td>\n",
       "      <td>0.000000</td>\n",
       "      <td>0.000000</td>\n",
       "      <td>0.000000</td>\n",
       "      <td>0.000000</td>\n",
       "      <td>0.000000</td>\n",
       "      <td>0.078000</td>\n",
       "      <td>21.000000</td>\n",
       "      <td>0.000000</td>\n",
       "    </tr>\n",
       "    <tr>\n",
       "      <th>25%</th>\n",
       "      <td>1.000000</td>\n",
       "      <td>99.000000</td>\n",
       "      <td>62.000000</td>\n",
       "      <td>0.000000</td>\n",
       "      <td>0.000000</td>\n",
       "      <td>27.300000</td>\n",
       "      <td>0.243750</td>\n",
       "      <td>24.000000</td>\n",
       "      <td>0.000000</td>\n",
       "    </tr>\n",
       "    <tr>\n",
       "      <th>50%</th>\n",
       "      <td>3.000000</td>\n",
       "      <td>117.000000</td>\n",
       "      <td>72.000000</td>\n",
       "      <td>23.000000</td>\n",
       "      <td>30.500000</td>\n",
       "      <td>32.000000</td>\n",
       "      <td>0.372500</td>\n",
       "      <td>29.000000</td>\n",
       "      <td>0.000000</td>\n",
       "    </tr>\n",
       "    <tr>\n",
       "      <th>75%</th>\n",
       "      <td>6.000000</td>\n",
       "      <td>140.250000</td>\n",
       "      <td>80.000000</td>\n",
       "      <td>32.000000</td>\n",
       "      <td>127.250000</td>\n",
       "      <td>36.600000</td>\n",
       "      <td>0.626250</td>\n",
       "      <td>41.000000</td>\n",
       "      <td>1.000000</td>\n",
       "    </tr>\n",
       "    <tr>\n",
       "      <th>max</th>\n",
       "      <td>17.000000</td>\n",
       "      <td>199.000000</td>\n",
       "      <td>122.000000</td>\n",
       "      <td>99.000000</td>\n",
       "      <td>846.000000</td>\n",
       "      <td>67.100000</td>\n",
       "      <td>2.420000</td>\n",
       "      <td>81.000000</td>\n",
       "      <td>1.000000</td>\n",
       "    </tr>\n",
       "  </tbody>\n",
       "</table>\n",
       "</div>"
      ],
      "text/plain": [
       "       Pregnancies     Glucose  BloodPressure  SkinThickness     Insulin  \\\n",
       "count   768.000000  768.000000     768.000000     768.000000  768.000000   \n",
       "mean      3.845052  120.894531      69.105469      20.536458   79.799479   \n",
       "std       3.369578   31.972618      19.355807      15.952218  115.244002   \n",
       "min       0.000000    0.000000       0.000000       0.000000    0.000000   \n",
       "25%       1.000000   99.000000      62.000000       0.000000    0.000000   \n",
       "50%       3.000000  117.000000      72.000000      23.000000   30.500000   \n",
       "75%       6.000000  140.250000      80.000000      32.000000  127.250000   \n",
       "max      17.000000  199.000000     122.000000      99.000000  846.000000   \n",
       "\n",
       "              BMI  DiabetesPedigreeFunction         Age     Outcome  \n",
       "count  768.000000                768.000000  768.000000  768.000000  \n",
       "mean    31.992578                  0.471876   33.240885    0.348958  \n",
       "std      7.884160                  0.331329   11.760232    0.476951  \n",
       "min      0.000000                  0.078000   21.000000    0.000000  \n",
       "25%     27.300000                  0.243750   24.000000    0.000000  \n",
       "50%     32.000000                  0.372500   29.000000    0.000000  \n",
       "75%     36.600000                  0.626250   41.000000    1.000000  \n",
       "max     67.100000                  2.420000   81.000000    1.000000  "
      ]
     },
     "execution_count": 9,
     "metadata": {},
     "output_type": "execute_result"
    }
   ],
   "source": [
    "PIMA_data.describe()"
   ]
  },
  {
   "cell_type": "markdown",
   "metadata": {},
   "source": [
    "## Exploratory Data Analysis\n",
    "\n",
    "EDA for this dataset has been done in detail as a part of Module 1 assignment named \n",
    "\"AIML2019_Module1_Project_Sudarshan_Vaidya\". \n",
    "\n",
    "Hence only analysis relevant to the present assignment like Zero values replacement, Correlation etc. \n",
    "has been covered here. \n"
   ]
  },
  {
   "cell_type": "markdown",
   "metadata": {},
   "source": [
    "## Zero Values Analysis"
   ]
  },
  {
   "cell_type": "markdown",
   "metadata": {},
   "source": [
    "##### There are no null values in the dataset as can be seen from the dia.info() output, \n",
    "but there are some values in below attributes that are zero: \n",
    "\n",
    "1. Pregnancies - zero makes sense in real life \n",
    "2. Glucose - zero has no sense in real life \n",
    "3. BloodPressure - zero has no sense in real life \n",
    "4. SkinThickness - zero has no sense in real life \n",
    "5. Insulin - zero has no sense in real life \n",
    "6. BMI - zero has no sense in real life \n",
    "\n",
    "Since zero values in these attributes make no sense in real life, except for 'Pregnancies', which can be zero, \n",
    "these zero values may be excluded. \n",
    "However, this decision of dropping zero values can be taken after exploring more on count of these zero values.\n",
    " "
   ]
  },
  {
   "cell_type": "code",
   "execution_count": 10,
   "metadata": {},
   "outputs": [
    {
     "name": "stdout",
     "output_type": "stream",
     "text": [
      "       Pregnancies  Glucose  BloodPressure  SkinThickness  Insulin   BMI  \\\n",
      "count          0.0      5.0           35.0          227.0    374.0  11.0   \n",
      "mean           NaN      0.0            0.0            0.0      0.0   0.0   \n",
      "std            NaN      0.0            0.0            0.0      0.0   0.0   \n",
      "min            NaN      0.0            0.0            0.0      0.0   0.0   \n",
      "25%            NaN      0.0            0.0            0.0      0.0   0.0   \n",
      "50%            NaN      0.0            0.0            0.0      0.0   0.0   \n",
      "75%            NaN      0.0            0.0            0.0      0.0   0.0   \n",
      "max            NaN      0.0            0.0            0.0      0.0   0.0   \n",
      "\n",
      "       DiabetesPedigreeFunction  Age  Outcome  \n",
      "count                       0.0  0.0      0.0  \n",
      "mean                        NaN  NaN      NaN  \n",
      "std                         NaN  NaN      NaN  \n",
      "min                         NaN  NaN      NaN  \n",
      "25%                         NaN  NaN      NaN  \n",
      "50%                         NaN  NaN      NaN  \n",
      "75%                         NaN  NaN      NaN  \n",
      "max                         NaN  NaN      NaN  \n",
      "Glucose            5\n",
      "BloodPressure     35\n",
      "SkinThickness    227\n",
      "Insulin          374\n",
      "BMI               11\n",
      "dtype: int64\n"
     ]
    }
   ],
   "source": [
    "zerocount = PIMA_data[PIMA_data[['Glucose','BloodPressure','SkinThickness','Insulin','BMI']]==0].describe()\n",
    "\n",
    "print(zerocount)\n",
    "\n",
    "print((PIMA_data[['Glucose','BloodPressure','SkinThickness','Insulin','BMI']]==0).sum())"
   ]
  },
  {
   "cell_type": "markdown",
   "metadata": {},
   "source": [
    "##### No of zeroes in above Columns\n",
    "\n",
    "Glucose - 5\n",
    "\n",
    "BloodPressure - 35 \n",
    "\n",
    "SkinThickness - 227 \n",
    "\n",
    "Insulin - 374 \n",
    "\n",
    "BMI - 11\n"
   ]
  },
  {
   "cell_type": "markdown",
   "metadata": {},
   "source": [
    "## Replacement of zero values with median"
   ]
  },
  {
   "cell_type": "markdown",
   "metadata": {},
   "source": [
    "##### Find out Glucose median and replace zero values"
   ]
  },
  {
   "cell_type": "code",
   "execution_count": 11,
   "metadata": {},
   "outputs": [
    {
     "data": {
      "text/plain": [
       "Glucose    117.0\n",
       "dtype: float64"
      ]
     },
     "execution_count": 11,
     "metadata": {},
     "output_type": "execute_result"
    }
   ],
   "source": [
    "median_Glucose = PIMA_data[['Glucose']][PIMA_data[['Glucose']]>0].median()\n",
    "median_Glucose"
   ]
  },
  {
   "cell_type": "code",
   "execution_count": 12,
   "metadata": {},
   "outputs": [
    {
     "name": "stdout",
     "output_type": "stream",
     "text": [
      "0\n"
     ]
    }
   ],
   "source": [
    "PIMA_data['Glucose'] = PIMA_data['Glucose'].replace([0],median_Glucose)\n",
    "                          \n",
    "# To check if zeroes has been replaced\n",
    "print((PIMA_data['Glucose']==0).sum())"
   ]
  },
  {
   "cell_type": "markdown",
   "metadata": {},
   "source": [
    "##### Find out BloodPressure median and replace zero values"
   ]
  },
  {
   "cell_type": "code",
   "execution_count": 13,
   "metadata": {},
   "outputs": [
    {
     "data": {
      "text/plain": [
       "BloodPressure    72.0\n",
       "dtype: float64"
      ]
     },
     "execution_count": 13,
     "metadata": {},
     "output_type": "execute_result"
    }
   ],
   "source": [
    "median_BloodPressure = PIMA_data[['BloodPressure']][PIMA_data[['BloodPressure']]>0].median()\n",
    "median_BloodPressure"
   ]
  },
  {
   "cell_type": "code",
   "execution_count": 14,
   "metadata": {},
   "outputs": [
    {
     "name": "stdout",
     "output_type": "stream",
     "text": [
      "0\n"
     ]
    }
   ],
   "source": [
    "PIMA_data['BloodPressure'] = PIMA_data['BloodPressure'].replace([0],median_BloodPressure)\n",
    "                          \n",
    "# To check if zeroes has been replaced\n",
    "print((PIMA_data['BloodPressure']==0).sum())"
   ]
  },
  {
   "cell_type": "markdown",
   "metadata": {},
   "source": [
    "##### Find out SkinThickness median and replace zero values"
   ]
  },
  {
   "cell_type": "code",
   "execution_count": 15,
   "metadata": {},
   "outputs": [
    {
     "data": {
      "text/plain": [
       "SkinThickness    29.0\n",
       "dtype: float64"
      ]
     },
     "execution_count": 15,
     "metadata": {},
     "output_type": "execute_result"
    }
   ],
   "source": [
    "median_SkinThickness = PIMA_data[['SkinThickness']][PIMA_data[['SkinThickness']]>0].median()\n",
    "median_SkinThickness"
   ]
  },
  {
   "cell_type": "code",
   "execution_count": 16,
   "metadata": {},
   "outputs": [
    {
     "name": "stdout",
     "output_type": "stream",
     "text": [
      "0\n"
     ]
    }
   ],
   "source": [
    "PIMA_data['SkinThickness'] = PIMA_data['SkinThickness'].replace([0],median_SkinThickness)\n",
    "                          \n",
    "# To check if zeroes has been replaced\n",
    "print((PIMA_data['SkinThickness']==0).sum())"
   ]
  },
  {
   "cell_type": "markdown",
   "metadata": {},
   "source": [
    "##### Find out Insulin median and replace zero values"
   ]
  },
  {
   "cell_type": "code",
   "execution_count": 17,
   "metadata": {},
   "outputs": [
    {
     "data": {
      "text/plain": [
       "Insulin    125.0\n",
       "dtype: float64"
      ]
     },
     "execution_count": 17,
     "metadata": {},
     "output_type": "execute_result"
    }
   ],
   "source": [
    "median_Insulin = PIMA_data[['Insulin']][PIMA_data[['Insulin']]>0].median()\n",
    "median_Insulin"
   ]
  },
  {
   "cell_type": "code",
   "execution_count": 18,
   "metadata": {},
   "outputs": [
    {
     "name": "stdout",
     "output_type": "stream",
     "text": [
      "0\n"
     ]
    }
   ],
   "source": [
    "PIMA_data['Insulin'] = PIMA_data['Insulin'].replace([0],median_Insulin)\n",
    "                          \n",
    "# To check if zeroes has been replaced\n",
    "print((PIMA_data['Insulin']==0).sum())"
   ]
  },
  {
   "cell_type": "markdown",
   "metadata": {},
   "source": [
    "##### Find out BMI median and replace zero values"
   ]
  },
  {
   "cell_type": "code",
   "execution_count": 19,
   "metadata": {},
   "outputs": [
    {
     "data": {
      "text/plain": [
       "BMI    32.3\n",
       "dtype: float64"
      ]
     },
     "execution_count": 19,
     "metadata": {},
     "output_type": "execute_result"
    }
   ],
   "source": [
    "median_BMI = PIMA_data[['BMI']][PIMA_data[['BMI']]>0].median()\n",
    "median_BMI"
   ]
  },
  {
   "cell_type": "code",
   "execution_count": 20,
   "metadata": {},
   "outputs": [
    {
     "name": "stdout",
     "output_type": "stream",
     "text": [
      "0\n"
     ]
    }
   ],
   "source": [
    "PIMA_data['BMI'] = PIMA_data['BMI'].replace([0],median_BMI)\n",
    "                          \n",
    "# To check if zeroes has been replaced\n",
    "print((PIMA_data['BMI']==0).sum())"
   ]
  },
  {
   "cell_type": "markdown",
   "metadata": {},
   "source": [
    "##### Create correlation matrix for the data frame"
   ]
  },
  {
   "cell_type": "code",
   "execution_count": 21,
   "metadata": {},
   "outputs": [
    {
     "data": {
      "text/html": [
       "<div>\n",
       "<style scoped>\n",
       "    .dataframe tbody tr th:only-of-type {\n",
       "        vertical-align: middle;\n",
       "    }\n",
       "\n",
       "    .dataframe tbody tr th {\n",
       "        vertical-align: top;\n",
       "    }\n",
       "\n",
       "    .dataframe thead th {\n",
       "        text-align: right;\n",
       "    }\n",
       "</style>\n",
       "<table border=\"1\" class=\"dataframe\">\n",
       "  <thead>\n",
       "    <tr style=\"text-align: right;\">\n",
       "      <th></th>\n",
       "      <th>Pregnancies</th>\n",
       "      <th>Glucose</th>\n",
       "      <th>BloodPressure</th>\n",
       "      <th>SkinThickness</th>\n",
       "      <th>Insulin</th>\n",
       "      <th>BMI</th>\n",
       "      <th>DiabetesPedigreeFunction</th>\n",
       "      <th>Age</th>\n",
       "      <th>Outcome</th>\n",
       "    </tr>\n",
       "  </thead>\n",
       "  <tbody>\n",
       "    <tr>\n",
       "      <th>Pregnancies</th>\n",
       "      <td>1.000000</td>\n",
       "      <td>0.128213</td>\n",
       "      <td>0.208615</td>\n",
       "      <td>0.081770</td>\n",
       "      <td>0.025047</td>\n",
       "      <td>0.021559</td>\n",
       "      <td>-0.033523</td>\n",
       "      <td>0.544341</td>\n",
       "      <td>0.221898</td>\n",
       "    </tr>\n",
       "    <tr>\n",
       "      <th>Glucose</th>\n",
       "      <td>0.128213</td>\n",
       "      <td>1.000000</td>\n",
       "      <td>0.218937</td>\n",
       "      <td>0.192615</td>\n",
       "      <td>0.419451</td>\n",
       "      <td>0.231049</td>\n",
       "      <td>0.137327</td>\n",
       "      <td>0.266909</td>\n",
       "      <td>0.492782</td>\n",
       "    </tr>\n",
       "    <tr>\n",
       "      <th>BloodPressure</th>\n",
       "      <td>0.208615</td>\n",
       "      <td>0.218937</td>\n",
       "      <td>1.000000</td>\n",
       "      <td>0.191892</td>\n",
       "      <td>0.045363</td>\n",
       "      <td>0.281257</td>\n",
       "      <td>-0.002378</td>\n",
       "      <td>0.324915</td>\n",
       "      <td>0.165723</td>\n",
       "    </tr>\n",
       "    <tr>\n",
       "      <th>SkinThickness</th>\n",
       "      <td>0.081770</td>\n",
       "      <td>0.192615</td>\n",
       "      <td>0.191892</td>\n",
       "      <td>1.000000</td>\n",
       "      <td>0.155610</td>\n",
       "      <td>0.543205</td>\n",
       "      <td>0.102188</td>\n",
       "      <td>0.126107</td>\n",
       "      <td>0.214873</td>\n",
       "    </tr>\n",
       "    <tr>\n",
       "      <th>Insulin</th>\n",
       "      <td>0.025047</td>\n",
       "      <td>0.419451</td>\n",
       "      <td>0.045363</td>\n",
       "      <td>0.155610</td>\n",
       "      <td>1.000000</td>\n",
       "      <td>0.180241</td>\n",
       "      <td>0.126503</td>\n",
       "      <td>0.097101</td>\n",
       "      <td>0.203790</td>\n",
       "    </tr>\n",
       "    <tr>\n",
       "      <th>BMI</th>\n",
       "      <td>0.021559</td>\n",
       "      <td>0.231049</td>\n",
       "      <td>0.281257</td>\n",
       "      <td>0.543205</td>\n",
       "      <td>0.180241</td>\n",
       "      <td>1.000000</td>\n",
       "      <td>0.153438</td>\n",
       "      <td>0.025597</td>\n",
       "      <td>0.312038</td>\n",
       "    </tr>\n",
       "    <tr>\n",
       "      <th>DiabetesPedigreeFunction</th>\n",
       "      <td>-0.033523</td>\n",
       "      <td>0.137327</td>\n",
       "      <td>-0.002378</td>\n",
       "      <td>0.102188</td>\n",
       "      <td>0.126503</td>\n",
       "      <td>0.153438</td>\n",
       "      <td>1.000000</td>\n",
       "      <td>0.033561</td>\n",
       "      <td>0.173844</td>\n",
       "    </tr>\n",
       "    <tr>\n",
       "      <th>Age</th>\n",
       "      <td>0.544341</td>\n",
       "      <td>0.266909</td>\n",
       "      <td>0.324915</td>\n",
       "      <td>0.126107</td>\n",
       "      <td>0.097101</td>\n",
       "      <td>0.025597</td>\n",
       "      <td>0.033561</td>\n",
       "      <td>1.000000</td>\n",
       "      <td>0.238356</td>\n",
       "    </tr>\n",
       "    <tr>\n",
       "      <th>Outcome</th>\n",
       "      <td>0.221898</td>\n",
       "      <td>0.492782</td>\n",
       "      <td>0.165723</td>\n",
       "      <td>0.214873</td>\n",
       "      <td>0.203790</td>\n",
       "      <td>0.312038</td>\n",
       "      <td>0.173844</td>\n",
       "      <td>0.238356</td>\n",
       "      <td>1.000000</td>\n",
       "    </tr>\n",
       "  </tbody>\n",
       "</table>\n",
       "</div>"
      ],
      "text/plain": [
       "                          Pregnancies   Glucose  BloodPressure  SkinThickness  \\\n",
       "Pregnancies                  1.000000  0.128213       0.208615       0.081770   \n",
       "Glucose                      0.128213  1.000000       0.218937       0.192615   \n",
       "BloodPressure                0.208615  0.218937       1.000000       0.191892   \n",
       "SkinThickness                0.081770  0.192615       0.191892       1.000000   \n",
       "Insulin                      0.025047  0.419451       0.045363       0.155610   \n",
       "BMI                          0.021559  0.231049       0.281257       0.543205   \n",
       "DiabetesPedigreeFunction    -0.033523  0.137327      -0.002378       0.102188   \n",
       "Age                          0.544341  0.266909       0.324915       0.126107   \n",
       "Outcome                      0.221898  0.492782       0.165723       0.214873   \n",
       "\n",
       "                           Insulin       BMI  DiabetesPedigreeFunction  \\\n",
       "Pregnancies               0.025047  0.021559                 -0.033523   \n",
       "Glucose                   0.419451  0.231049                  0.137327   \n",
       "BloodPressure             0.045363  0.281257                 -0.002378   \n",
       "SkinThickness             0.155610  0.543205                  0.102188   \n",
       "Insulin                   1.000000  0.180241                  0.126503   \n",
       "BMI                       0.180241  1.000000                  0.153438   \n",
       "DiabetesPedigreeFunction  0.126503  0.153438                  1.000000   \n",
       "Age                       0.097101  0.025597                  0.033561   \n",
       "Outcome                   0.203790  0.312038                  0.173844   \n",
       "\n",
       "                               Age   Outcome  \n",
       "Pregnancies               0.544341  0.221898  \n",
       "Glucose                   0.266909  0.492782  \n",
       "BloodPressure             0.324915  0.165723  \n",
       "SkinThickness             0.126107  0.214873  \n",
       "Insulin                   0.097101  0.203790  \n",
       "BMI                       0.025597  0.312038  \n",
       "DiabetesPedigreeFunction  0.033561  0.173844  \n",
       "Age                       1.000000  0.238356  \n",
       "Outcome                   0.238356  1.000000  "
      ]
     },
     "execution_count": 21,
     "metadata": {},
     "output_type": "execute_result"
    }
   ],
   "source": [
    "corr = PIMA_data.corr()\n",
    "corr"
   ]
  },
  {
   "cell_type": "markdown",
   "metadata": {},
   "source": [
    "##### Heat Map for correlation matrix "
   ]
  },
  {
   "cell_type": "code",
   "execution_count": 22,
   "metadata": {},
   "outputs": [
    {
     "data": {
      "text/plain": [
       "<matplotlib.axes._subplots.AxesSubplot at 0xb2fa6a0>"
      ]
     },
     "execution_count": 22,
     "metadata": {},
     "output_type": "execute_result"
    },
    {
     "data": {
      "image/png": "[encoded data removed]",
      "text/plain": [
       "<Figure size 720x576 with 2 Axes>"
      ]
     },
     "metadata": {
      "needs_background": "light"
     },
     "output_type": "display_data"
    }
   ],
   "source": [
    "plt.figure(figsize=(10,8))\n",
    "sns.heatmap(corr, annot=True,linewidths=2)"
   ]
  },
  {
   "cell_type": "markdown",
   "metadata": {},
   "source": [
    "##### Inference from Correlation heat map:\n",
    "1. All correlation values are less than 0.6, which means there is relatively less correlation betwwen \n",
    "various attributes and also the Outcome. \n",
    "2. Top three attribute pairs with highest correlation are:\n",
    "    a. Pregnancies-Age (0.54) \n",
    "    b. SkinThickness-BMI (0.54) \n",
    "    c. Glucose-Insulin (0.42)\n",
    "    So, only one value from each of these pairs can be used as predictors for the Outcome. \n",
    "3. Outcome has positive correlation with all the attributes without any exception. \n",
    "4. BloodPressure has least correlation with Outcome.\n",
    "5. DiabetesPedigreeFunction has a low correlation with Outcome. "
   ]
  },
  {
   "cell_type": "markdown",
   "metadata": {},
   "source": [
    "##### Identify Best Predictors\n",
    "Top 3 attributes with highest correlation with Outcome are:\n",
    "1. Glucose (as Insulin not considered due to high correlation) \n",
    "2. BMI (as SkinThickness not considered due to high correlation)\n",
    "3. Age (as Pregnancies not considered due to high correlation)\n",
    "4. Additionally, DiabetesPedigreeFunction may also be considered, as it is least correlated to others. "
   ]
  },
  {
   "cell_type": "markdown",
   "metadata": {},
   "source": [
    "##### Conduct test to check normality of the data "
   ]
  },
  {
   "cell_type": "code",
   "execution_count": 23,
   "metadata": {},
   "outputs": [
    {
     "data": {
      "text/plain": [
       "(0.9696223139762878, 1.5240374934277767e-11)"
      ]
     },
     "execution_count": 23,
     "metadata": {},
     "output_type": "execute_result"
    }
   ],
   "source": [
    "shapiro(PIMA_data['Glucose'])"
   ]
  },
  {
   "cell_type": "code",
   "execution_count": 24,
   "metadata": {},
   "outputs": [
    {
     "data": {
      "text/plain": [
       "(0.979444146156311, 6.441978950277871e-09)"
      ]
     },
     "execution_count": 24,
     "metadata": {},
     "output_type": "execute_result"
    }
   ],
   "source": [
    "shapiro(PIMA_data['BMI'])"
   ]
  },
  {
   "cell_type": "code",
   "execution_count": 25,
   "metadata": {},
   "outputs": [
    {
     "data": {
      "text/plain": [
       "(0.8365186452865601, 2.477696547502535e-27)"
      ]
     },
     "execution_count": 25,
     "metadata": {},
     "output_type": "execute_result"
    }
   ],
   "source": [
    "shapiro(PIMA_data['DiabetesPedigreeFunction'])"
   ]
  },
  {
   "cell_type": "code",
   "execution_count": 26,
   "metadata": {},
   "outputs": [
    {
     "data": {
      "text/plain": [
       "(0.8747662305831909, 2.401946561183188e-24)"
      ]
     },
     "execution_count": 26,
     "metadata": {},
     "output_type": "execute_result"
    }
   ],
   "source": [
    "shapiro(PIMA_data['Age'])"
   ]
  },
  {
   "cell_type": "code",
   "execution_count": 27,
   "metadata": {},
   "outputs": [
    {
     "data": {
      "text/plain": [
       "(0.9878154993057251, 5.2496684475045186e-06)"
      ]
     },
     "execution_count": 27,
     "metadata": {},
     "output_type": "execute_result"
    }
   ],
   "source": [
    "shapiro(PIMA_data['BloodPressure'])"
   ]
  },
  {
   "cell_type": "markdown",
   "metadata": {},
   "source": [
    "##### Conclusion for Normality\n",
    "Shapiro test for normality have very low values for all variables. \n",
    "This indicates that values in all 5 variables above are normally distributed. \n"
   ]
  },
  {
   "cell_type": "markdown",
   "metadata": {},
   "source": [
    "## Iteration 1: Consider Glucose, BMI, DiabetesPedigreeFunction, Age"
   ]
  },
  {
   "cell_type": "markdown",
   "metadata": {},
   "source": [
    "## Variable Selection and Standardization"
   ]
  },
  {
   "cell_type": "code",
   "execution_count": 28,
   "metadata": {},
   "outputs": [
    {
     "data": {
      "text/html": [
       "<div>\n",
       "<style scoped>\n",
       "    .dataframe tbody tr th:only-of-type {\n",
       "        vertical-align: middle;\n",
       "    }\n",
       "\n",
       "    .dataframe tbody tr th {\n",
       "        vertical-align: top;\n",
       "    }\n",
       "\n",
       "    .dataframe thead th {\n",
       "        text-align: right;\n",
       "    }\n",
       "</style>\n",
       "<table border=\"1\" class=\"dataframe\">\n",
       "  <thead>\n",
       "    <tr style=\"text-align: right;\">\n",
       "      <th></th>\n",
       "      <th>Glucose</th>\n",
       "      <th>BMI</th>\n",
       "      <th>DiabetesPedigreeFunction</th>\n",
       "      <th>Age</th>\n",
       "    </tr>\n",
       "  </thead>\n",
       "  <tbody>\n",
       "    <tr>\n",
       "      <th>0</th>\n",
       "      <td>148.0</td>\n",
       "      <td>33.6</td>\n",
       "      <td>0.627</td>\n",
       "      <td>50</td>\n",
       "    </tr>\n",
       "    <tr>\n",
       "      <th>1</th>\n",
       "      <td>85.0</td>\n",
       "      <td>26.6</td>\n",
       "      <td>0.351</td>\n",
       "      <td>31</td>\n",
       "    </tr>\n",
       "    <tr>\n",
       "      <th>2</th>\n",
       "      <td>183.0</td>\n",
       "      <td>23.3</td>\n",
       "      <td>0.672</td>\n",
       "      <td>32</td>\n",
       "    </tr>\n",
       "    <tr>\n",
       "      <th>3</th>\n",
       "      <td>89.0</td>\n",
       "      <td>28.1</td>\n",
       "      <td>0.167</td>\n",
       "      <td>21</td>\n",
       "    </tr>\n",
       "    <tr>\n",
       "      <th>4</th>\n",
       "      <td>137.0</td>\n",
       "      <td>43.1</td>\n",
       "      <td>2.288</td>\n",
       "      <td>33</td>\n",
       "    </tr>\n",
       "  </tbody>\n",
       "</table>\n",
       "</div>"
      ],
      "text/plain": [
       "   Glucose   BMI  DiabetesPedigreeFunction  Age\n",
       "0    148.0  33.6                     0.627   50\n",
       "1     85.0  26.6                     0.351   31\n",
       "2    183.0  23.3                     0.672   32\n",
       "3     89.0  28.1                     0.167   21\n",
       "4    137.0  43.1                     2.288   33"
      ]
     },
     "execution_count": 28,
     "metadata": {},
     "output_type": "execute_result"
    }
   ],
   "source": [
    "X_features = pd.DataFrame(data = PIMA_data, columns = ['Glucose','BMI','DiabetesPedigreeFunction','Age'])\n",
    "X_features.head()"
   ]
  },
  {
   "cell_type": "code",
   "execution_count": 31,
   "metadata": {},
   "outputs": [
    {
     "name": "stderr",
     "output_type": "stream",
     "text": [
      "C:\\Users\\LENOVO\\Anaconda3\\lib\\site-packages\\sklearn\\preprocessing\\data.py:625: DataConversionWarning: Data with input dtype int64, float64 were all converted to float64 by StandardScaler.\n",
      "  return self.partial_fit(X, y)\n",
      "C:\\Users\\LENOVO\\Anaconda3\\lib\\site-packages\\sklearn\\base.py:462: DataConversionWarning: Data with input dtype int64, float64 were all converted to float64 by StandardScaler.\n",
      "  return self.fit(X, **fit_params).transform(X)\n"
     ]
    },
    {
     "data": {
      "text/html": [
       "<div>\n",
       "<style scoped>\n",
       "    .dataframe tbody tr th:only-of-type {\n",
       "        vertical-align: middle;\n",
       "    }\n",
       "\n",
       "    .dataframe tbody tr th {\n",
       "        vertical-align: top;\n",
       "    }\n",
       "\n",
       "    .dataframe thead th {\n",
       "        text-align: right;\n",
       "    }\n",
       "</style>\n",
       "<table border=\"1\" class=\"dataframe\">\n",
       "  <thead>\n",
       "    <tr style=\"text-align: right;\">\n",
       "      <th></th>\n",
       "      <th>Glucose</th>\n",
       "      <th>BMI</th>\n",
       "      <th>DiabetesPedigreeFunction</th>\n",
       "      <th>Age</th>\n",
       "    </tr>\n",
       "  </thead>\n",
       "  <tbody>\n",
       "    <tr>\n",
       "      <th>0</th>\n",
       "      <td>0.866045</td>\n",
       "      <td>0.166619</td>\n",
       "      <td>0.468492</td>\n",
       "      <td>1.425995</td>\n",
       "    </tr>\n",
       "    <tr>\n",
       "      <th>1</th>\n",
       "      <td>-1.205066</td>\n",
       "      <td>-0.852200</td>\n",
       "      <td>-0.365061</td>\n",
       "      <td>-0.190672</td>\n",
       "    </tr>\n",
       "    <tr>\n",
       "      <th>2</th>\n",
       "      <td>2.016662</td>\n",
       "      <td>-1.332500</td>\n",
       "      <td>0.604397</td>\n",
       "      <td>-0.105584</td>\n",
       "    </tr>\n",
       "    <tr>\n",
       "      <th>3</th>\n",
       "      <td>-1.073567</td>\n",
       "      <td>-0.633881</td>\n",
       "      <td>-0.920763</td>\n",
       "      <td>-1.041549</td>\n",
       "    </tr>\n",
       "    <tr>\n",
       "      <th>4</th>\n",
       "      <td>0.504422</td>\n",
       "      <td>1.549303</td>\n",
       "      <td>5.484909</td>\n",
       "      <td>-0.020496</td>\n",
       "    </tr>\n",
       "  </tbody>\n",
       "</table>\n",
       "</div>"
      ],
      "text/plain": [
       "    Glucose       BMI  DiabetesPedigreeFunction       Age\n",
       "0  0.866045  0.166619                  0.468492  1.425995\n",
       "1 -1.205066 -0.852200                 -0.365061 -0.190672\n",
       "2  2.016662 -1.332500                  0.604397 -0.105584\n",
       "3 -1.073567 -0.633881                 -0.920763 -1.041549\n",
       "4  0.504422  1.549303                  5.484909 -0.020496"
      ]
     },
     "execution_count": 31,
     "metadata": {},
     "output_type": "execute_result"
    }
   ],
   "source": [
    "rescaledX = StandardScaler().fit_transform(X_features)\n",
    "\n",
    "X = pd.DataFrame(data = rescaledX, columns= X_features.columns)\n",
    "X.head()"
   ]
  },
  {
   "cell_type": "code",
   "execution_count": 32,
   "metadata": {},
   "outputs": [
    {
     "data": {
      "text/plain": [
       "0    1\n",
       "1    0\n",
       "2    1\n",
       "3    0\n",
       "4    1\n",
       "Name: Outcome, dtype: int64"
      ]
     },
     "execution_count": 32,
     "metadata": {},
     "output_type": "execute_result"
    }
   ],
   "source": [
    "y = PIMA_data.iloc[:,8]\n",
    "y.head()"
   ]
  },
  {
   "cell_type": "markdown",
   "metadata": {},
   "source": [
    "## Split Training and Testing Sets"
   ]
  },
  {
   "cell_type": "code",
   "execution_count": 33,
   "metadata": {},
   "outputs": [],
   "source": [
    "X_train,X_test,y_train,y_test = train_test_split(X,y, random_state = 25, test_size = 0.3)"
   ]
  },
  {
   "cell_type": "code",
   "execution_count": 34,
   "metadata": {},
   "outputs": [
    {
     "data": {
      "text/plain": [
       "584    1\n",
       "237    1\n",
       "715    1\n",
       "758    0\n",
       "189    1\n",
       "4      1\n",
       "292    1\n",
       "371    0\n",
       "296    1\n",
       "128    1\n",
       "360    1\n",
       "591    0\n",
       "542    1\n",
       "425    1\n",
       "226    0\n",
       "341    0\n",
       "123    0\n",
       "152    1\n",
       "480    1\n",
       "159    1\n",
       "377    0\n",
       "551    0\n",
       "538    0\n",
       "698    0\n",
       "714    0\n",
       "564    0\n",
       "115    1\n",
       "621    0\n",
       "33     0\n",
       "587    0\n",
       "      ..\n",
       "303    1\n",
       "650    0\n",
       "160    0\n",
       "649    0\n",
       "548    0\n",
       "562    0\n",
       "109    1\n",
       "492    0\n",
       "656    0\n",
       "201    0\n",
       "559    0\n",
       "304    0\n",
       "406    1\n",
       "131    1\n",
       "259    1\n",
       "88     1\n",
       "167    0\n",
       "641    0\n",
       "453    0\n",
       "500    0\n",
       "253    0\n",
       "156    0\n",
       "136    0\n",
       "151    0\n",
       "255    1\n",
       "317    1\n",
       "143    1\n",
       "474    0\n",
       "318    0\n",
       "132    1\n",
       "Name: Outcome, Length: 537, dtype: int64"
      ]
     },
     "execution_count": 34,
     "metadata": {},
     "output_type": "execute_result"
    }
   ],
   "source": [
    "y_train"
   ]
  },
  {
   "cell_type": "code",
   "execution_count": 35,
   "metadata": {},
   "outputs": [
    {
     "data": {
      "text/html": [
       "<div>\n",
       "<style scoped>\n",
       "    .dataframe tbody tr th:only-of-type {\n",
       "        vertical-align: middle;\n",
       "    }\n",
       "\n",
       "    .dataframe tbody tr th {\n",
       "        vertical-align: top;\n",
       "    }\n",
       "\n",
       "    .dataframe thead th {\n",
       "        text-align: right;\n",
       "    }\n",
       "</style>\n",
       "<table border=\"1\" class=\"dataframe\">\n",
       "  <thead>\n",
       "    <tr style=\"text-align: right;\">\n",
       "      <th></th>\n",
       "      <th>Glucose</th>\n",
       "      <th>BMI</th>\n",
       "      <th>DiabetesPedigreeFunction</th>\n",
       "      <th>Age</th>\n",
       "    </tr>\n",
       "  </thead>\n",
       "  <tbody>\n",
       "    <tr>\n",
       "      <th>584</th>\n",
       "      <td>0.077050</td>\n",
       "      <td>-0.546554</td>\n",
       "      <td>0.649699</td>\n",
       "      <td>1.596171</td>\n",
       "    </tr>\n",
       "    <tr>\n",
       "      <th>237</th>\n",
       "      <td>1.885163</td>\n",
       "      <td>1.694848</td>\n",
       "      <td>0.646679</td>\n",
       "      <td>-0.871374</td>\n",
       "    </tr>\n",
       "    <tr>\n",
       "      <th>715</th>\n",
       "      <td>2.148161</td>\n",
       "      <td>0.210283</td>\n",
       "      <td>1.069496</td>\n",
       "      <td>0.064591</td>\n",
       "    </tr>\n",
       "    <tr>\n",
       "      <th>758</th>\n",
       "      <td>-0.514696</td>\n",
       "      <td>0.734247</td>\n",
       "      <td>-0.830159</td>\n",
       "      <td>-0.616111</td>\n",
       "    </tr>\n",
       "    <tr>\n",
       "      <th>189</th>\n",
       "      <td>0.570172</td>\n",
       "      <td>-0.124472</td>\n",
       "      <td>-0.334860</td>\n",
       "      <td>-0.701198</td>\n",
       "    </tr>\n",
       "    <tr>\n",
       "      <th>4</th>\n",
       "      <td>0.504422</td>\n",
       "      <td>1.549303</td>\n",
       "      <td>5.484909</td>\n",
       "      <td>-0.020496</td>\n",
       "    </tr>\n",
       "    <tr>\n",
       "      <th>292</th>\n",
       "      <td>0.208549</td>\n",
       "      <td>1.578412</td>\n",
       "      <td>2.271503</td>\n",
       "      <td>-0.190672</td>\n",
       "    </tr>\n",
       "    <tr>\n",
       "      <th>371</th>\n",
       "      <td>-0.120198</td>\n",
       "      <td>-0.022590</td>\n",
       "      <td>3.802703</td>\n",
       "      <td>-1.041549</td>\n",
       "    </tr>\n",
       "    <tr>\n",
       "      <th>296</th>\n",
       "      <td>0.800295</td>\n",
       "      <td>-0.648436</td>\n",
       "      <td>-0.407342</td>\n",
       "      <td>-0.360847</td>\n",
       "    </tr>\n",
       "    <tr>\n",
       "      <th>128</th>\n",
       "      <td>-0.153073</td>\n",
       "      <td>0.297610</td>\n",
       "      <td>-0.208015</td>\n",
       "      <td>0.575118</td>\n",
       "    </tr>\n",
       "    <tr>\n",
       "      <th>360</th>\n",
       "      <td>2.213910</td>\n",
       "      <td>-0.182690</td>\n",
       "      <td>0.335607</td>\n",
       "      <td>-0.360847</td>\n",
       "    </tr>\n",
       "    <tr>\n",
       "      <th>591</th>\n",
       "      <td>-0.317447</td>\n",
       "      <td>1.010784</td>\n",
       "      <td>-0.896602</td>\n",
       "      <td>-0.786286</td>\n",
       "    </tr>\n",
       "    <tr>\n",
       "      <th>542</th>\n",
       "      <td>-1.040692</td>\n",
       "      <td>0.355829</td>\n",
       "      <td>1.066475</td>\n",
       "      <td>1.936522</td>\n",
       "    </tr>\n",
       "    <tr>\n",
       "      <th>425</th>\n",
       "      <td>2.049537</td>\n",
       "      <td>0.661474</td>\n",
       "      <td>-0.627811</td>\n",
       "      <td>-0.190672</td>\n",
       "    </tr>\n",
       "    <tr>\n",
       "      <th>226</th>\n",
       "      <td>-0.679069</td>\n",
       "      <td>0.472265</td>\n",
       "      <td>-0.827139</td>\n",
       "      <td>-0.616111</td>\n",
       "    </tr>\n",
       "    <tr>\n",
       "      <th>341</th>\n",
       "      <td>-0.876318</td>\n",
       "      <td>-0.954082</td>\n",
       "      <td>0.607417</td>\n",
       "      <td>0.234767</td>\n",
       "    </tr>\n",
       "    <tr>\n",
       "      <th>123</th>\n",
       "      <td>0.340048</td>\n",
       "      <td>-0.823091</td>\n",
       "      <td>-0.863380</td>\n",
       "      <td>3.042663</td>\n",
       "    </tr>\n",
       "    <tr>\n",
       "      <th>152</th>\n",
       "      <td>1.129043</td>\n",
       "      <td>0.268501</td>\n",
       "      <td>2.165799</td>\n",
       "      <td>0.745293</td>\n",
       "    </tr>\n",
       "    <tr>\n",
       "      <th>480</th>\n",
       "      <td>1.194792</td>\n",
       "      <td>0.443156</td>\n",
       "      <td>-0.386202</td>\n",
       "      <td>0.149679</td>\n",
       "    </tr>\n",
       "    <tr>\n",
       "      <th>159</th>\n",
       "      <td>1.359166</td>\n",
       "      <td>1.229102</td>\n",
       "      <td>1.042315</td>\n",
       "      <td>1.170732</td>\n",
       "    </tr>\n",
       "    <tr>\n",
       "      <th>377</th>\n",
       "      <td>-1.139316</td>\n",
       "      <td>0.690584</td>\n",
       "      <td>0.112118</td>\n",
       "      <td>-0.956462</td>\n",
       "    </tr>\n",
       "    <tr>\n",
       "      <th>551</th>\n",
       "      <td>-1.237941</td>\n",
       "      <td>-0.080808</td>\n",
       "      <td>0.359768</td>\n",
       "      <td>-0.701198</td>\n",
       "    </tr>\n",
       "    <tr>\n",
       "      <th>538</th>\n",
       "      <td>0.175675</td>\n",
       "      <td>0.559592</td>\n",
       "      <td>1.003053</td>\n",
       "      <td>-0.871374</td>\n",
       "    </tr>\n",
       "    <tr>\n",
       "      <th>698</th>\n",
       "      <td>0.175675</td>\n",
       "      <td>0.297610</td>\n",
       "      <td>0.380909</td>\n",
       "      <td>-0.445935</td>\n",
       "    </tr>\n",
       "    <tr>\n",
       "      <th>714</th>\n",
       "      <td>-0.646195</td>\n",
       "      <td>-0.430118</td>\n",
       "      <td>-1.059688</td>\n",
       "      <td>-0.105584</td>\n",
       "    </tr>\n",
       "    <tr>\n",
       "      <th>564</th>\n",
       "      <td>-1.007817</td>\n",
       "      <td>-0.008035</td>\n",
       "      <td>0.389969</td>\n",
       "      <td>-0.531023</td>\n",
       "    </tr>\n",
       "    <tr>\n",
       "      <th>115</th>\n",
       "      <td>0.800295</td>\n",
       "      <td>-0.182690</td>\n",
       "      <td>0.202722</td>\n",
       "      <td>2.361961</td>\n",
       "    </tr>\n",
       "    <tr>\n",
       "      <th>621</th>\n",
       "      <td>-0.974942</td>\n",
       "      <td>-1.201509</td>\n",
       "      <td>3.703039</td>\n",
       "      <td>-0.445935</td>\n",
       "    </tr>\n",
       "    <tr>\n",
       "      <th>33</th>\n",
       "      <td>-0.974942</td>\n",
       "      <td>-1.827355</td>\n",
       "      <td>-0.857340</td>\n",
       "      <td>-0.445935</td>\n",
       "    </tr>\n",
       "    <tr>\n",
       "      <th>587</th>\n",
       "      <td>-0.613320</td>\n",
       "      <td>-1.186955</td>\n",
       "      <td>-0.673113</td>\n",
       "      <td>-0.360847</td>\n",
       "    </tr>\n",
       "    <tr>\n",
       "      <th>...</th>\n",
       "      <td>...</td>\n",
       "      <td>...</td>\n",
       "      <td>...</td>\n",
       "      <td>...</td>\n",
       "    </tr>\n",
       "    <tr>\n",
       "      <th>303</th>\n",
       "      <td>-0.218823</td>\n",
       "      <td>2.975649</td>\n",
       "      <td>-0.793918</td>\n",
       "      <td>-0.445935</td>\n",
       "    </tr>\n",
       "    <tr>\n",
       "      <th>650</th>\n",
       "      <td>-1.007817</td>\n",
       "      <td>-1.055964</td>\n",
       "      <td>-0.718415</td>\n",
       "      <td>-0.871374</td>\n",
       "    </tr>\n",
       "    <tr>\n",
       "      <th>160</th>\n",
       "      <td>0.964669</td>\n",
       "      <td>-0.401008</td>\n",
       "      <td>-0.537208</td>\n",
       "      <td>0.234767</td>\n",
       "    </tr>\n",
       "    <tr>\n",
       "      <th>649</th>\n",
       "      <td>-0.481821</td>\n",
       "      <td>-0.881309</td>\n",
       "      <td>-1.023447</td>\n",
       "      <td>-0.871374</td>\n",
       "    </tr>\n",
       "    <tr>\n",
       "      <th>548</th>\n",
       "      <td>1.392041</td>\n",
       "      <td>0.050183</td>\n",
       "      <td>-0.395262</td>\n",
       "      <td>1.425995</td>\n",
       "    </tr>\n",
       "    <tr>\n",
       "      <th>562</th>\n",
       "      <td>-1.139316</td>\n",
       "      <td>0.748802</td>\n",
       "      <td>-0.214055</td>\n",
       "      <td>-0.786286</td>\n",
       "    </tr>\n",
       "    <tr>\n",
       "      <th>109</th>\n",
       "      <td>-0.876318</td>\n",
       "      <td>0.719693</td>\n",
       "      <td>-0.679153</td>\n",
       "      <td>-0.786286</td>\n",
       "    </tr>\n",
       "    <tr>\n",
       "      <th>492</th>\n",
       "      <td>-0.744819</td>\n",
       "      <td>0.050183</td>\n",
       "      <td>-0.987205</td>\n",
       "      <td>-0.020496</td>\n",
       "    </tr>\n",
       "    <tr>\n",
       "      <th>656</th>\n",
       "      <td>-0.679069</td>\n",
       "      <td>-1.550819</td>\n",
       "      <td>-0.957004</td>\n",
       "      <td>-0.956462</td>\n",
       "    </tr>\n",
       "    <tr>\n",
       "      <th>201</th>\n",
       "      <td>0.537297</td>\n",
       "      <td>1.112666</td>\n",
       "      <td>-0.712374</td>\n",
       "      <td>-0.445935</td>\n",
       "    </tr>\n",
       "    <tr>\n",
       "      <th>559</th>\n",
       "      <td>-1.205066</td>\n",
       "      <td>-0.342790</td>\n",
       "      <td>-0.519087</td>\n",
       "      <td>0.149679</td>\n",
       "    </tr>\n",
       "    <tr>\n",
       "      <th>304</th>\n",
       "      <td>0.931794</td>\n",
       "      <td>-1.667255</td>\n",
       "      <td>-0.799958</td>\n",
       "      <td>0.319855</td>\n",
       "    </tr>\n",
       "    <tr>\n",
       "      <th>406</th>\n",
       "      <td>-0.218823</td>\n",
       "      <td>-0.517445</td>\n",
       "      <td>-0.289558</td>\n",
       "      <td>1.085644</td>\n",
       "    </tr>\n",
       "    <tr>\n",
       "      <th>131</th>\n",
       "      <td>0.011301</td>\n",
       "      <td>0.122956</td>\n",
       "      <td>1.939290</td>\n",
       "      <td>-0.020496</td>\n",
       "    </tr>\n",
       "    <tr>\n",
       "      <th>259</th>\n",
       "      <td>1.096168</td>\n",
       "      <td>0.122956</td>\n",
       "      <td>2.661098</td>\n",
       "      <td>1.511083</td>\n",
       "    </tr>\n",
       "    <tr>\n",
       "      <th>88</th>\n",
       "      <td>0.471547</td>\n",
       "      <td>0.676029</td>\n",
       "      <td>-0.963044</td>\n",
       "      <td>0.830381</td>\n",
       "    </tr>\n",
       "    <tr>\n",
       "      <th>167</th>\n",
       "      <td>-0.054449</td>\n",
       "      <td>-0.415563</td>\n",
       "      <td>0.716142</td>\n",
       "      <td>0.064591</td>\n",
       "    </tr>\n",
       "    <tr>\n",
       "      <th>641</th>\n",
       "      <td>0.208549</td>\n",
       "      <td>0.268501</td>\n",
       "      <td>-0.510026</td>\n",
       "      <td>-0.786286</td>\n",
       "    </tr>\n",
       "    <tr>\n",
       "      <th>453</th>\n",
       "      <td>-0.087324</td>\n",
       "      <td>-1.871019</td>\n",
       "      <td>1.087616</td>\n",
       "      <td>3.297926</td>\n",
       "    </tr>\n",
       "    <tr>\n",
       "      <th>500</th>\n",
       "      <td>-0.153073</td>\n",
       "      <td>-1.055964</td>\n",
       "      <td>-0.479825</td>\n",
       "      <td>-1.041549</td>\n",
       "    </tr>\n",
       "    <tr>\n",
       "      <th>253</th>\n",
       "      <td>-1.172191</td>\n",
       "      <td>0.486820</td>\n",
       "      <td>-0.706334</td>\n",
       "      <td>-0.701198</td>\n",
       "    </tr>\n",
       "    <tr>\n",
       "      <th>156</th>\n",
       "      <td>-0.744819</td>\n",
       "      <td>-1.143291</td>\n",
       "      <td>0.498693</td>\n",
       "      <td>-1.041549</td>\n",
       "    </tr>\n",
       "    <tr>\n",
       "      <th>136</th>\n",
       "      <td>-0.711944</td>\n",
       "      <td>-0.240908</td>\n",
       "      <td>0.377888</td>\n",
       "      <td>-1.041549</td>\n",
       "    </tr>\n",
       "    <tr>\n",
       "      <th>151</th>\n",
       "      <td>-0.251697</td>\n",
       "      <td>-1.536264</td>\n",
       "      <td>-0.120431</td>\n",
       "      <td>0.319855</td>\n",
       "    </tr>\n",
       "    <tr>\n",
       "      <th>255</th>\n",
       "      <td>-0.284572</td>\n",
       "      <td>0.166619</td>\n",
       "      <td>0.214802</td>\n",
       "      <td>-1.041549</td>\n",
       "    </tr>\n",
       "    <tr>\n",
       "      <th>317</th>\n",
       "      <td>1.983787</td>\n",
       "      <td>-0.284572</td>\n",
       "      <td>-0.383181</td>\n",
       "      <td>-0.360847</td>\n",
       "    </tr>\n",
       "    <tr>\n",
       "      <th>143</th>\n",
       "      <td>-0.448946</td>\n",
       "      <td>-0.008035</td>\n",
       "      <td>-0.603650</td>\n",
       "      <td>0.745293</td>\n",
       "    </tr>\n",
       "    <tr>\n",
       "      <th>474</th>\n",
       "      <td>-0.251697</td>\n",
       "      <td>-0.517445</td>\n",
       "      <td>-1.044587</td>\n",
       "      <td>-0.786286</td>\n",
       "    </tr>\n",
       "    <tr>\n",
       "      <th>318</th>\n",
       "      <td>-0.218823</td>\n",
       "      <td>0.821575</td>\n",
       "      <td>-0.972105</td>\n",
       "      <td>-0.445935</td>\n",
       "    </tr>\n",
       "    <tr>\n",
       "      <th>132</th>\n",
       "      <td>1.589290</td>\n",
       "      <td>0.297610</td>\n",
       "      <td>-0.349960</td>\n",
       "      <td>-0.275760</td>\n",
       "    </tr>\n",
       "  </tbody>\n",
       "</table>\n",
       "<p>537 rows × 4 columns</p>\n",
       "</div>"
      ],
      "text/plain": [
       "      Glucose       BMI  DiabetesPedigreeFunction       Age\n",
       "584  0.077050 -0.546554                  0.649699  1.596171\n",
       "237  1.885163  1.694848                  0.646679 -0.871374\n",
       "715  2.148161  0.210283                  1.069496  0.064591\n",
       "758 -0.514696  0.734247                 -0.830159 -0.616111\n",
       "189  0.570172 -0.124472                 -0.334860 -0.701198\n",
       "4    0.504422  1.549303                  5.484909 -0.020496\n",
       "292  0.208549  1.578412                  2.271503 -0.190672\n",
       "371 -0.120198 -0.022590                  3.802703 -1.041549\n",
       "296  0.800295 -0.648436                 -0.407342 -0.360847\n",
       "128 -0.153073  0.297610                 -0.208015  0.575118\n",
       "360  2.213910 -0.182690                  0.335607 -0.360847\n",
       "591 -0.317447  1.010784                 -0.896602 -0.786286\n",
       "542 -1.040692  0.355829                  1.066475  1.936522\n",
       "425  2.049537  0.661474                 -0.627811 -0.190672\n",
       "226 -0.679069  0.472265                 -0.827139 -0.616111\n",
       "341 -0.876318 -0.954082                  0.607417  0.234767\n",
       "123  0.340048 -0.823091                 -0.863380  3.042663\n",
       "152  1.129043  0.268501                  2.165799  0.745293\n",
       "480  1.194792  0.443156                 -0.386202  0.149679\n",
       "159  1.359166  1.229102                  1.042315  1.170732\n",
       "377 -1.139316  0.690584                  0.112118 -0.956462\n",
       "551 -1.237941 -0.080808                  0.359768 -0.701198\n",
       "538  0.175675  0.559592                  1.003053 -0.871374\n",
       "698  0.175675  0.297610                  0.380909 -0.445935\n",
       "714 -0.646195 -0.430118                 -1.059688 -0.105584\n",
       "564 -1.007817 -0.008035                  0.389969 -0.531023\n",
       "115  0.800295 -0.182690                  0.202722  2.361961\n",
       "621 -0.974942 -1.201509                  3.703039 -0.445935\n",
       "33  -0.974942 -1.827355                 -0.857340 -0.445935\n",
       "587 -0.613320 -1.186955                 -0.673113 -0.360847\n",
       "..        ...       ...                       ...       ...\n",
       "303 -0.218823  2.975649                 -0.793918 -0.445935\n",
       "650 -1.007817 -1.055964                 -0.718415 -0.871374\n",
       "160  0.964669 -0.401008                 -0.537208  0.234767\n",
       "649 -0.481821 -0.881309                 -1.023447 -0.871374\n",
       "548  1.392041  0.050183                 -0.395262  1.425995\n",
       "562 -1.139316  0.748802                 -0.214055 -0.786286\n",
       "109 -0.876318  0.719693                 -0.679153 -0.786286\n",
       "492 -0.744819  0.050183                 -0.987205 -0.020496\n",
       "656 -0.679069 -1.550819                 -0.957004 -0.956462\n",
       "201  0.537297  1.112666                 -0.712374 -0.445935\n",
       "559 -1.205066 -0.342790                 -0.519087  0.149679\n",
       "304  0.931794 -1.667255                 -0.799958  0.319855\n",
       "406 -0.218823 -0.517445                 -0.289558  1.085644\n",
       "131  0.011301  0.122956                  1.939290 -0.020496\n",
       "259  1.096168  0.122956                  2.661098  1.511083\n",
       "88   0.471547  0.676029                 -0.963044  0.830381\n",
       "167 -0.054449 -0.415563                  0.716142  0.064591\n",
       "641  0.208549  0.268501                 -0.510026 -0.786286\n",
       "453 -0.087324 -1.871019                  1.087616  3.297926\n",
       "500 -0.153073 -1.055964                 -0.479825 -1.041549\n",
       "253 -1.172191  0.486820                 -0.706334 -0.701198\n",
       "156 -0.744819 -1.143291                  0.498693 -1.041549\n",
       "136 -0.711944 -0.240908                  0.377888 -1.041549\n",
       "151 -0.251697 -1.536264                 -0.120431  0.319855\n",
       "255 -0.284572  0.166619                  0.214802 -1.041549\n",
       "317  1.983787 -0.284572                 -0.383181 -0.360847\n",
       "143 -0.448946 -0.008035                 -0.603650  0.745293\n",
       "474 -0.251697 -0.517445                 -1.044587 -0.786286\n",
       "318 -0.218823  0.821575                 -0.972105 -0.445935\n",
       "132  1.589290  0.297610                 -0.349960 -0.275760\n",
       "\n",
       "[537 rows x 4 columns]"
      ]
     },
     "execution_count": 35,
     "metadata": {},
     "output_type": "execute_result"
    }
   ],
   "source": [
    "X_train"
   ]
  },
  {
   "cell_type": "markdown",
   "metadata": {},
   "source": [
    "## Apply GNaiveBayes and Calculate Score"
   ]
  },
  {
   "cell_type": "code",
   "execution_count": 36,
   "metadata": {},
   "outputs": [
    {
     "name": "stdout",
     "output_type": "stream",
     "text": [
      "0.8051948051948052\n"
     ]
    }
   ],
   "source": [
    "GB_Classifier = GaussianNB()\n",
    "GB_Classifier.fit(X_train, y_train)\n",
    "y_pred = GB_Classifier.predict(X_test)\n",
    "score  = GB_Classifier.score(X_test,y_test)\n",
    "print (score)"
   ]
  },
  {
   "cell_type": "markdown",
   "metadata": {},
   "source": [
    "## Calculate Confusion Matrix, Recall & Precision"
   ]
  },
  {
   "cell_type": "code",
   "execution_count": 37,
   "metadata": {},
   "outputs": [
    {
     "data": {
      "text/plain": [
       "array([[138,  22],\n",
       "       [ 23,  48]], dtype=int64)"
      ]
     },
     "execution_count": 37,
     "metadata": {},
     "output_type": "execute_result"
    }
   ],
   "source": [
    "cm = confusion_matrix(y_test, y_pred)\n",
    "cm"
   ]
  },
  {
   "cell_type": "code",
   "execution_count": 38,
   "metadata": {},
   "outputs": [
    {
     "data": {
      "text/plain": [
       "(231,)"
      ]
     },
     "execution_count": 38,
     "metadata": {},
     "output_type": "execute_result"
    }
   ],
   "source": [
    "y_pred.shape"
   ]
  },
  {
   "cell_type": "code",
   "execution_count": 39,
   "metadata": {},
   "outputs": [
    {
     "name": "stdout",
     "output_type": "stream",
     "text": [
      "              precision    recall  f1-score   support\n",
      "\n",
      "           0       0.86      0.86      0.86       160\n",
      "           1       0.69      0.68      0.68        71\n",
      "\n",
      "   micro avg       0.81      0.81      0.81       231\n",
      "   macro avg       0.77      0.77      0.77       231\n",
      "weighted avg       0.80      0.81      0.80       231\n",
      "\n"
     ]
    }
   ],
   "source": [
    "print(classification_report(y_test, y_pred))"
   ]
  },
  {
   "cell_type": "markdown",
   "metadata": {},
   "source": [
    "##### Inference for Iteration 1 - BloodPressure NOT included \n",
    "1. The model accuracy (score) is 80.52%\n",
    "2. Precision and recall values are higher for non-diabetic compared to diabetic. \n",
    "This is because of the inherent skew in the available data, where the 'Outcome' has 500 zeros and 268 ones. \n"
   ]
  },
  {
   "cell_type": "markdown",
   "metadata": {},
   "source": [
    "## Plot ROC Curve"
   ]
  },
  {
   "cell_type": "code",
   "execution_count": 40,
   "metadata": {},
   "outputs": [
    {
     "data": {
      "text/plain": [
       "<matplotlib.legend.Legend at 0xb450320>"
      ]
     },
     "execution_count": 40,
     "metadata": {},
     "output_type": "execute_result"
    },
    {
     "data": {
      "image/png": "[encoded data removed]",
      "text/plain": [
       "<Figure size 432x288 with 1 Axes>"
      ]
     },
     "metadata": {
      "needs_background": "light"
     },
     "output_type": "display_data"
    }
   ],
   "source": [
    "fpr, tpr,_=roc_curve(y_pred,y_test,drop_intermediate=False)\n",
    "plt.figure()\n",
    "\n",
    "##Adding the ROC\n",
    "plt.plot(fpr, tpr, color='red', lw=2, label='ROC Curve')\n",
    "\n",
    "##Random FPR and TPR\n",
    "plt.plot([0, 1], [0, 1], color='blue', lw=2, linestyle='--')\n",
    "\n",
    "##Title and label\n",
    "plt.xlabel('FPR')\n",
    "plt.ylabel('TPR')\n",
    "plt.title('ROC Curve')\n",
    "plt.legend()"
   ]
  },
  {
   "cell_type": "markdown",
   "metadata": {},
   "source": [
    "## Iteration 2: Consider Glucose, BMI, DiabetesPedigreeFunction, Age and BloodPressure"
   ]
  },
  {
   "cell_type": "markdown",
   "metadata": {},
   "source": [
    "## Variable Selection and Standardization"
   ]
  },
  {
   "cell_type": "code",
   "execution_count": 41,
   "metadata": {},
   "outputs": [
    {
     "data": {
      "text/html": [
       "<div>\n",
       "<style scoped>\n",
       "    .dataframe tbody tr th:only-of-type {\n",
       "        vertical-align: middle;\n",
       "    }\n",
       "\n",
       "    .dataframe tbody tr th {\n",
       "        vertical-align: top;\n",
       "    }\n",
       "\n",
       "    .dataframe thead th {\n",
       "        text-align: right;\n",
       "    }\n",
       "</style>\n",
       "<table border=\"1\" class=\"dataframe\">\n",
       "  <thead>\n",
       "    <tr style=\"text-align: right;\">\n",
       "      <th></th>\n",
       "      <th>Glucose</th>\n",
       "      <th>BMI</th>\n",
       "      <th>DiabetesPedigreeFunction</th>\n",
       "      <th>Age</th>\n",
       "      <th>BloodPressure</th>\n",
       "    </tr>\n",
       "  </thead>\n",
       "  <tbody>\n",
       "    <tr>\n",
       "      <th>0</th>\n",
       "      <td>148.0</td>\n",
       "      <td>33.6</td>\n",
       "      <td>0.627</td>\n",
       "      <td>50</td>\n",
       "      <td>72.0</td>\n",
       "    </tr>\n",
       "    <tr>\n",
       "      <th>1</th>\n",
       "      <td>85.0</td>\n",
       "      <td>26.6</td>\n",
       "      <td>0.351</td>\n",
       "      <td>31</td>\n",
       "      <td>66.0</td>\n",
       "    </tr>\n",
       "    <tr>\n",
       "      <th>2</th>\n",
       "      <td>183.0</td>\n",
       "      <td>23.3</td>\n",
       "      <td>0.672</td>\n",
       "      <td>32</td>\n",
       "      <td>64.0</td>\n",
       "    </tr>\n",
       "    <tr>\n",
       "      <th>3</th>\n",
       "      <td>89.0</td>\n",
       "      <td>28.1</td>\n",
       "      <td>0.167</td>\n",
       "      <td>21</td>\n",
       "      <td>66.0</td>\n",
       "    </tr>\n",
       "    <tr>\n",
       "      <th>4</th>\n",
       "      <td>137.0</td>\n",
       "      <td>43.1</td>\n",
       "      <td>2.288</td>\n",
       "      <td>33</td>\n",
       "      <td>40.0</td>\n",
       "    </tr>\n",
       "  </tbody>\n",
       "</table>\n",
       "</div>"
      ],
      "text/plain": [
       "   Glucose   BMI  DiabetesPedigreeFunction  Age  BloodPressure\n",
       "0    148.0  33.6                     0.627   50           72.0\n",
       "1     85.0  26.6                     0.351   31           66.0\n",
       "2    183.0  23.3                     0.672   32           64.0\n",
       "3     89.0  28.1                     0.167   21           66.0\n",
       "4    137.0  43.1                     2.288   33           40.0"
      ]
     },
     "execution_count": 41,
     "metadata": {},
     "output_type": "execute_result"
    }
   ],
   "source": [
    "X_features = pd.DataFrame(data = PIMA_data, columns = ['Glucose','BMI','DiabetesPedigreeFunction',\n",
    "                                                       'Age', 'BloodPressure'])\n",
    "X_features.head()"
   ]
  },
  {
   "cell_type": "code",
   "execution_count": 42,
   "metadata": {},
   "outputs": [
    {
     "name": "stderr",
     "output_type": "stream",
     "text": [
      "C:\\Users\\LENOVO\\Anaconda3\\lib\\site-packages\\sklearn\\preprocessing\\data.py:625: DataConversionWarning: Data with input dtype int64, float64 were all converted to float64 by StandardScaler.\n",
      "  return self.partial_fit(X, y)\n",
      "C:\\Users\\LENOVO\\Anaconda3\\lib\\site-packages\\sklearn\\base.py:462: DataConversionWarning: Data with input dtype int64, float64 were all converted to float64 by StandardScaler.\n",
      "  return self.fit(X, **fit_params).transform(X)\n"
     ]
    },
    {
     "data": {
      "text/html": [
       "<div>\n",
       "<style scoped>\n",
       "    .dataframe tbody tr th:only-of-type {\n",
       "        vertical-align: middle;\n",
       "    }\n",
       "\n",
       "    .dataframe tbody tr th {\n",
       "        vertical-align: top;\n",
       "    }\n",
       "\n",
       "    .dataframe thead th {\n",
       "        text-align: right;\n",
       "    }\n",
       "</style>\n",
       "<table border=\"1\" class=\"dataframe\">\n",
       "  <thead>\n",
       "    <tr style=\"text-align: right;\">\n",
       "      <th></th>\n",
       "      <th>Glucose</th>\n",
       "      <th>BMI</th>\n",
       "      <th>DiabetesPedigreeFunction</th>\n",
       "      <th>Age</th>\n",
       "      <th>BloodPressure</th>\n",
       "    </tr>\n",
       "  </thead>\n",
       "  <tbody>\n",
       "    <tr>\n",
       "      <th>0</th>\n",
       "      <td>0.866045</td>\n",
       "      <td>0.166619</td>\n",
       "      <td>0.468492</td>\n",
       "      <td>1.425995</td>\n",
       "      <td>-0.031990</td>\n",
       "    </tr>\n",
       "    <tr>\n",
       "      <th>1</th>\n",
       "      <td>-1.205066</td>\n",
       "      <td>-0.852200</td>\n",
       "      <td>-0.365061</td>\n",
       "      <td>-0.190672</td>\n",
       "      <td>-0.528319</td>\n",
       "    </tr>\n",
       "    <tr>\n",
       "      <th>2</th>\n",
       "      <td>2.016662</td>\n",
       "      <td>-1.332500</td>\n",
       "      <td>0.604397</td>\n",
       "      <td>-0.105584</td>\n",
       "      <td>-0.693761</td>\n",
       "    </tr>\n",
       "    <tr>\n",
       "      <th>3</th>\n",
       "      <td>-1.073567</td>\n",
       "      <td>-0.633881</td>\n",
       "      <td>-0.920763</td>\n",
       "      <td>-1.041549</td>\n",
       "      <td>-0.528319</td>\n",
       "    </tr>\n",
       "    <tr>\n",
       "      <th>4</th>\n",
       "      <td>0.504422</td>\n",
       "      <td>1.549303</td>\n",
       "      <td>5.484909</td>\n",
       "      <td>-0.020496</td>\n",
       "      <td>-2.679076</td>\n",
       "    </tr>\n",
       "  </tbody>\n",
       "</table>\n",
       "</div>"
      ],
      "text/plain": [
       "    Glucose       BMI  DiabetesPedigreeFunction       Age  BloodPressure\n",
       "0  0.866045  0.166619                  0.468492  1.425995      -0.031990\n",
       "1 -1.205066 -0.852200                 -0.365061 -0.190672      -0.528319\n",
       "2  2.016662 -1.332500                  0.604397 -0.105584      -0.693761\n",
       "3 -1.073567 -0.633881                 -0.920763 -1.041549      -0.528319\n",
       "4  0.504422  1.549303                  5.484909 -0.020496      -2.679076"
      ]
     },
     "execution_count": 42,
     "metadata": {},
     "output_type": "execute_result"
    }
   ],
   "source": [
    "rescaledX = StandardScaler().fit_transform(X_features)\n",
    "\n",
    "X = pd.DataFrame(data = rescaledX, columns= X_features.columns)\n",
    "X.head()"
   ]
  },
  {
   "cell_type": "code",
   "execution_count": 43,
   "metadata": {},
   "outputs": [
    {
     "data": {
      "text/plain": [
       "0    1\n",
       "1    0\n",
       "2    1\n",
       "3    0\n",
       "4    1\n",
       "Name: Outcome, dtype: int64"
      ]
     },
     "execution_count": 43,
     "metadata": {},
     "output_type": "execute_result"
    }
   ],
   "source": [
    "y = PIMA_data.iloc[:,8]\n",
    "y.head()"
   ]
  },
  {
   "cell_type": "markdown",
   "metadata": {},
   "source": [
    "## Split Training and Testing Sets"
   ]
  },
  {
   "cell_type": "code",
   "execution_count": 44,
   "metadata": {},
   "outputs": [],
   "source": [
    "X_train,X_test,y_train,y_test = train_test_split(X,y, random_state = 25, test_size = 0.3)"
   ]
  },
  {
   "cell_type": "code",
   "execution_count": 45,
   "metadata": {},
   "outputs": [
    {
     "data": {
      "text/plain": [
       "584    1\n",
       "237    1\n",
       "715    1\n",
       "758    0\n",
       "189    1\n",
       "4      1\n",
       "292    1\n",
       "371    0\n",
       "296    1\n",
       "128    1\n",
       "360    1\n",
       "591    0\n",
       "542    1\n",
       "425    1\n",
       "226    0\n",
       "341    0\n",
       "123    0\n",
       "152    1\n",
       "480    1\n",
       "159    1\n",
       "377    0\n",
       "551    0\n",
       "538    0\n",
       "698    0\n",
       "714    0\n",
       "564    0\n",
       "115    1\n",
       "621    0\n",
       "33     0\n",
       "587    0\n",
       "      ..\n",
       "303    1\n",
       "650    0\n",
       "160    0\n",
       "649    0\n",
       "548    0\n",
       "562    0\n",
       "109    1\n",
       "492    0\n",
       "656    0\n",
       "201    0\n",
       "559    0\n",
       "304    0\n",
       "406    1\n",
       "131    1\n",
       "259    1\n",
       "88     1\n",
       "167    0\n",
       "641    0\n",
       "453    0\n",
       "500    0\n",
       "253    0\n",
       "156    0\n",
       "136    0\n",
       "151    0\n",
       "255    1\n",
       "317    1\n",
       "143    1\n",
       "474    0\n",
       "318    0\n",
       "132    1\n",
       "Name: Outcome, Length: 537, dtype: int64"
      ]
     },
     "execution_count": 45,
     "metadata": {},
     "output_type": "execute_result"
    }
   ],
   "source": [
    "y_train"
   ]
  },
  {
   "cell_type": "code",
   "execution_count": 46,
   "metadata": {},
   "outputs": [
    {
     "data": {
      "text/html": [
       "<div>\n",
       "<style scoped>\n",
       "    .dataframe tbody tr th:only-of-type {\n",
       "        vertical-align: middle;\n",
       "    }\n",
       "\n",
       "    .dataframe tbody tr th {\n",
       "        vertical-align: top;\n",
       "    }\n",
       "\n",
       "    .dataframe thead th {\n",
       "        text-align: right;\n",
       "    }\n",
       "</style>\n",
       "<table border=\"1\" class=\"dataframe\">\n",
       "  <thead>\n",
       "    <tr style=\"text-align: right;\">\n",
       "      <th></th>\n",
       "      <th>Glucose</th>\n",
       "      <th>BMI</th>\n",
       "      <th>DiabetesPedigreeFunction</th>\n",
       "      <th>Age</th>\n",
       "      <th>BloodPressure</th>\n",
       "    </tr>\n",
       "  </thead>\n",
       "  <tbody>\n",
       "    <tr>\n",
       "      <th>584</th>\n",
       "      <td>0.077050</td>\n",
       "      <td>-0.546554</td>\n",
       "      <td>0.649699</td>\n",
       "      <td>1.596171</td>\n",
       "      <td>0.298896</td>\n",
       "    </tr>\n",
       "    <tr>\n",
       "      <th>237</th>\n",
       "      <td>1.885163</td>\n",
       "      <td>1.694848</td>\n",
       "      <td>0.646679</td>\n",
       "      <td>-0.871374</td>\n",
       "      <td>1.456996</td>\n",
       "    </tr>\n",
       "    <tr>\n",
       "      <th>715</th>\n",
       "      <td>2.148161</td>\n",
       "      <td>0.210283</td>\n",
       "      <td>1.069496</td>\n",
       "      <td>0.064591</td>\n",
       "      <td>-1.851862</td>\n",
       "    </tr>\n",
       "    <tr>\n",
       "      <th>758</th>\n",
       "      <td>-0.514696</td>\n",
       "      <td>0.734247</td>\n",
       "      <td>-0.830159</td>\n",
       "      <td>-0.616111</td>\n",
       "      <td>0.298896</td>\n",
       "    </tr>\n",
       "    <tr>\n",
       "      <th>189</th>\n",
       "      <td>0.570172</td>\n",
       "      <td>-0.124472</td>\n",
       "      <td>-0.334860</td>\n",
       "      <td>-0.701198</td>\n",
       "      <td>0.629782</td>\n",
       "    </tr>\n",
       "    <tr>\n",
       "      <th>4</th>\n",
       "      <td>0.504422</td>\n",
       "      <td>1.549303</td>\n",
       "      <td>5.484909</td>\n",
       "      <td>-0.020496</td>\n",
       "      <td>-2.679076</td>\n",
       "    </tr>\n",
       "    <tr>\n",
       "      <th>292</th>\n",
       "      <td>0.208549</td>\n",
       "      <td>1.578412</td>\n",
       "      <td>2.271503</td>\n",
       "      <td>-0.190672</td>\n",
       "      <td>0.464339</td>\n",
       "    </tr>\n",
       "    <tr>\n",
       "      <th>371</th>\n",
       "      <td>-0.120198</td>\n",
       "      <td>-0.022590</td>\n",
       "      <td>3.802703</td>\n",
       "      <td>-1.041549</td>\n",
       "      <td>-0.693761</td>\n",
       "    </tr>\n",
       "    <tr>\n",
       "      <th>296</th>\n",
       "      <td>0.800295</td>\n",
       "      <td>-0.648436</td>\n",
       "      <td>-0.407342</td>\n",
       "      <td>-0.360847</td>\n",
       "      <td>-0.197433</td>\n",
       "    </tr>\n",
       "    <tr>\n",
       "      <th>128</th>\n",
       "      <td>-0.153073</td>\n",
       "      <td>0.297610</td>\n",
       "      <td>-0.208015</td>\n",
       "      <td>0.575118</td>\n",
       "      <td>1.291553</td>\n",
       "    </tr>\n",
       "    <tr>\n",
       "      <th>360</th>\n",
       "      <td>2.213910</td>\n",
       "      <td>-0.182690</td>\n",
       "      <td>0.335607</td>\n",
       "      <td>-0.360847</td>\n",
       "      <td>-0.693761</td>\n",
       "    </tr>\n",
       "    <tr>\n",
       "      <th>591</th>\n",
       "      <td>-0.317447</td>\n",
       "      <td>1.010784</td>\n",
       "      <td>-0.896602</td>\n",
       "      <td>-0.786286</td>\n",
       "      <td>0.464339</td>\n",
       "    </tr>\n",
       "    <tr>\n",
       "      <th>542</th>\n",
       "      <td>-1.040692</td>\n",
       "      <td>0.355829</td>\n",
       "      <td>1.066475</td>\n",
       "      <td>1.936522</td>\n",
       "      <td>1.043389</td>\n",
       "    </tr>\n",
       "    <tr>\n",
       "      <th>425</th>\n",
       "      <td>2.049537</td>\n",
       "      <td>0.661474</td>\n",
       "      <td>-0.627811</td>\n",
       "      <td>-0.190672</td>\n",
       "      <td>0.464339</td>\n",
       "    </tr>\n",
       "    <tr>\n",
       "      <th>226</th>\n",
       "      <td>-0.679069</td>\n",
       "      <td>0.472265</td>\n",
       "      <td>-0.827139</td>\n",
       "      <td>-0.616111</td>\n",
       "      <td>0.298896</td>\n",
       "    </tr>\n",
       "    <tr>\n",
       "      <th>341</th>\n",
       "      <td>-0.876318</td>\n",
       "      <td>-0.954082</td>\n",
       "      <td>0.607417</td>\n",
       "      <td>0.234767</td>\n",
       "      <td>0.133453</td>\n",
       "    </tr>\n",
       "    <tr>\n",
       "      <th>123</th>\n",
       "      <td>0.340048</td>\n",
       "      <td>-0.823091</td>\n",
       "      <td>-0.863380</td>\n",
       "      <td>3.042663</td>\n",
       "      <td>0.629782</td>\n",
       "    </tr>\n",
       "    <tr>\n",
       "      <th>152</th>\n",
       "      <td>1.129043</td>\n",
       "      <td>0.268501</td>\n",
       "      <td>2.165799</td>\n",
       "      <td>0.745293</td>\n",
       "      <td>1.126110</td>\n",
       "    </tr>\n",
       "    <tr>\n",
       "      <th>480</th>\n",
       "      <td>1.194792</td>\n",
       "      <td>0.443156</td>\n",
       "      <td>-0.386202</td>\n",
       "      <td>0.149679</td>\n",
       "      <td>-0.197433</td>\n",
       "    </tr>\n",
       "    <tr>\n",
       "      <th>159</th>\n",
       "      <td>1.359166</td>\n",
       "      <td>1.229102</td>\n",
       "      <td>1.042315</td>\n",
       "      <td>1.170732</td>\n",
       "      <td>-0.031990</td>\n",
       "    </tr>\n",
       "    <tr>\n",
       "      <th>377</th>\n",
       "      <td>-1.139316</td>\n",
       "      <td>0.690584</td>\n",
       "      <td>0.112118</td>\n",
       "      <td>-0.956462</td>\n",
       "      <td>-1.024647</td>\n",
       "    </tr>\n",
       "    <tr>\n",
       "      <th>551</th>\n",
       "      <td>-1.237941</td>\n",
       "      <td>-0.080808</td>\n",
       "      <td>0.359768</td>\n",
       "      <td>-0.701198</td>\n",
       "      <td>-0.362876</td>\n",
       "    </tr>\n",
       "    <tr>\n",
       "      <th>538</th>\n",
       "      <td>0.175675</td>\n",
       "      <td>0.559592</td>\n",
       "      <td>1.003053</td>\n",
       "      <td>-0.871374</td>\n",
       "      <td>0.629782</td>\n",
       "    </tr>\n",
       "    <tr>\n",
       "      <th>698</th>\n",
       "      <td>0.175675</td>\n",
       "      <td>0.297610</td>\n",
       "      <td>0.380909</td>\n",
       "      <td>-0.445935</td>\n",
       "      <td>1.291553</td>\n",
       "    </tr>\n",
       "    <tr>\n",
       "      <th>714</th>\n",
       "      <td>-0.646195</td>\n",
       "      <td>-0.430118</td>\n",
       "      <td>-1.059688</td>\n",
       "      <td>-0.105584</td>\n",
       "      <td>0.133453</td>\n",
       "    </tr>\n",
       "    <tr>\n",
       "      <th>564</th>\n",
       "      <td>-1.007817</td>\n",
       "      <td>-0.008035</td>\n",
       "      <td>0.389969</td>\n",
       "      <td>-0.531023</td>\n",
       "      <td>0.629782</td>\n",
       "    </tr>\n",
       "    <tr>\n",
       "      <th>115</th>\n",
       "      <td>0.800295</td>\n",
       "      <td>-0.182690</td>\n",
       "      <td>0.202722</td>\n",
       "      <td>2.361961</td>\n",
       "      <td>1.622439</td>\n",
       "    </tr>\n",
       "    <tr>\n",
       "      <th>621</th>\n",
       "      <td>-0.974942</td>\n",
       "      <td>-1.201509</td>\n",
       "      <td>3.703039</td>\n",
       "      <td>-0.445935</td>\n",
       "      <td>0.298896</td>\n",
       "    </tr>\n",
       "    <tr>\n",
       "      <th>33</th>\n",
       "      <td>-0.974942</td>\n",
       "      <td>-1.827355</td>\n",
       "      <td>-0.857340</td>\n",
       "      <td>-0.445935</td>\n",
       "      <td>1.622439</td>\n",
       "    </tr>\n",
       "    <tr>\n",
       "      <th>587</th>\n",
       "      <td>-0.613320</td>\n",
       "      <td>-1.186955</td>\n",
       "      <td>-0.673113</td>\n",
       "      <td>-0.360847</td>\n",
       "      <td>-0.528319</td>\n",
       "    </tr>\n",
       "    <tr>\n",
       "      <th>...</th>\n",
       "      <td>...</td>\n",
       "      <td>...</td>\n",
       "      <td>...</td>\n",
       "      <td>...</td>\n",
       "      <td>...</td>\n",
       "    </tr>\n",
       "    <tr>\n",
       "      <th>303</th>\n",
       "      <td>-0.218823</td>\n",
       "      <td>2.975649</td>\n",
       "      <td>-0.793918</td>\n",
       "      <td>-0.445935</td>\n",
       "      <td>2.118768</td>\n",
       "    </tr>\n",
       "    <tr>\n",
       "      <th>650</th>\n",
       "      <td>-1.007817</td>\n",
       "      <td>-1.055964</td>\n",
       "      <td>-0.718415</td>\n",
       "      <td>-0.871374</td>\n",
       "      <td>-1.520976</td>\n",
       "    </tr>\n",
       "    <tr>\n",
       "      <th>160</th>\n",
       "      <td>0.964669</td>\n",
       "      <td>-0.401008</td>\n",
       "      <td>-0.537208</td>\n",
       "      <td>0.234767</td>\n",
       "      <td>1.456996</td>\n",
       "    </tr>\n",
       "    <tr>\n",
       "      <th>649</th>\n",
       "      <td>-0.481821</td>\n",
       "      <td>-0.881309</td>\n",
       "      <td>-1.023447</td>\n",
       "      <td>-0.871374</td>\n",
       "      <td>-1.024647</td>\n",
       "    </tr>\n",
       "    <tr>\n",
       "      <th>548</th>\n",
       "      <td>1.392041</td>\n",
       "      <td>0.050183</td>\n",
       "      <td>-0.395262</td>\n",
       "      <td>1.425995</td>\n",
       "      <td>0.795225</td>\n",
       "    </tr>\n",
       "    <tr>\n",
       "      <th>562</th>\n",
       "      <td>-1.139316</td>\n",
       "      <td>0.748802</td>\n",
       "      <td>-0.214055</td>\n",
       "      <td>-0.786286</td>\n",
       "      <td>-0.362876</td>\n",
       "    </tr>\n",
       "    <tr>\n",
       "      <th>109</th>\n",
       "      <td>-0.876318</td>\n",
       "      <td>0.719693</td>\n",
       "      <td>-0.679153</td>\n",
       "      <td>-0.786286</td>\n",
       "      <td>1.043389</td>\n",
       "    </tr>\n",
       "    <tr>\n",
       "      <th>492</th>\n",
       "      <td>-0.744819</td>\n",
       "      <td>0.050183</td>\n",
       "      <td>-0.987205</td>\n",
       "      <td>-0.020496</td>\n",
       "      <td>-0.362876</td>\n",
       "    </tr>\n",
       "    <tr>\n",
       "      <th>656</th>\n",
       "      <td>-0.679069</td>\n",
       "      <td>-1.550819</td>\n",
       "      <td>-0.957004</td>\n",
       "      <td>-0.956462</td>\n",
       "      <td>-1.190090</td>\n",
       "    </tr>\n",
       "    <tr>\n",
       "      <th>201</th>\n",
       "      <td>0.537297</td>\n",
       "      <td>1.112666</td>\n",
       "      <td>-0.712374</td>\n",
       "      <td>-0.445935</td>\n",
       "      <td>0.795225</td>\n",
       "    </tr>\n",
       "    <tr>\n",
       "      <th>559</th>\n",
       "      <td>-1.205066</td>\n",
       "      <td>-0.342790</td>\n",
       "      <td>-0.519087</td>\n",
       "      <td>0.149679</td>\n",
       "      <td>0.133453</td>\n",
       "    </tr>\n",
       "    <tr>\n",
       "      <th>304</th>\n",
       "      <td>0.931794</td>\n",
       "      <td>-1.667255</td>\n",
       "      <td>-0.799958</td>\n",
       "      <td>0.319855</td>\n",
       "      <td>0.298896</td>\n",
       "    </tr>\n",
       "    <tr>\n",
       "      <th>406</th>\n",
       "      <td>-0.218823</td>\n",
       "      <td>-0.517445</td>\n",
       "      <td>-0.289558</td>\n",
       "      <td>1.085644</td>\n",
       "      <td>-0.031990</td>\n",
       "    </tr>\n",
       "    <tr>\n",
       "      <th>131</th>\n",
       "      <td>0.011301</td>\n",
       "      <td>0.122956</td>\n",
       "      <td>1.939290</td>\n",
       "      <td>-0.020496</td>\n",
       "      <td>-1.355533</td>\n",
       "    </tr>\n",
       "    <tr>\n",
       "      <th>259</th>\n",
       "      <td>1.096168</td>\n",
       "      <td>0.122956</td>\n",
       "      <td>2.661098</td>\n",
       "      <td>1.511083</td>\n",
       "      <td>0.298896</td>\n",
       "    </tr>\n",
       "    <tr>\n",
       "      <th>88</th>\n",
       "      <td>0.471547</td>\n",
       "      <td>0.676029</td>\n",
       "      <td>-0.963044</td>\n",
       "      <td>0.830381</td>\n",
       "      <td>-0.197433</td>\n",
       "    </tr>\n",
       "    <tr>\n",
       "      <th>167</th>\n",
       "      <td>-0.054449</td>\n",
       "      <td>-0.415563</td>\n",
       "      <td>0.716142</td>\n",
       "      <td>0.064591</td>\n",
       "      <td>-0.362876</td>\n",
       "    </tr>\n",
       "    <tr>\n",
       "      <th>641</th>\n",
       "      <td>0.208549</td>\n",
       "      <td>0.268501</td>\n",
       "      <td>-0.510026</td>\n",
       "      <td>-0.786286</td>\n",
       "      <td>-0.197433</td>\n",
       "    </tr>\n",
       "    <tr>\n",
       "      <th>453</th>\n",
       "      <td>-0.087324</td>\n",
       "      <td>-1.871019</td>\n",
       "      <td>1.087616</td>\n",
       "      <td>3.297926</td>\n",
       "      <td>-0.031990</td>\n",
       "    </tr>\n",
       "    <tr>\n",
       "      <th>500</th>\n",
       "      <td>-0.153073</td>\n",
       "      <td>-1.055964</td>\n",
       "      <td>-0.479825</td>\n",
       "      <td>-1.041549</td>\n",
       "      <td>1.456996</td>\n",
       "    </tr>\n",
       "    <tr>\n",
       "      <th>253</th>\n",
       "      <td>-1.172191</td>\n",
       "      <td>0.486820</td>\n",
       "      <td>-0.706334</td>\n",
       "      <td>-0.701198</td>\n",
       "      <td>-0.362876</td>\n",
       "    </tr>\n",
       "    <tr>\n",
       "      <th>156</th>\n",
       "      <td>-0.744819</td>\n",
       "      <td>-1.143291</td>\n",
       "      <td>0.498693</td>\n",
       "      <td>-1.041549</td>\n",
       "      <td>-1.686419</td>\n",
       "    </tr>\n",
       "    <tr>\n",
       "      <th>136</th>\n",
       "      <td>-0.711944</td>\n",
       "      <td>-0.240908</td>\n",
       "      <td>0.377888</td>\n",
       "      <td>-1.041549</td>\n",
       "      <td>-0.197433</td>\n",
       "    </tr>\n",
       "    <tr>\n",
       "      <th>151</th>\n",
       "      <td>-0.251697</td>\n",
       "      <td>-1.536264</td>\n",
       "      <td>-0.120431</td>\n",
       "      <td>0.319855</td>\n",
       "      <td>-0.611040</td>\n",
       "    </tr>\n",
       "    <tr>\n",
       "      <th>255</th>\n",
       "      <td>-0.284572</td>\n",
       "      <td>0.166619</td>\n",
       "      <td>0.214802</td>\n",
       "      <td>-1.041549</td>\n",
       "      <td>-0.693761</td>\n",
       "    </tr>\n",
       "    <tr>\n",
       "      <th>317</th>\n",
       "      <td>1.983787</td>\n",
       "      <td>-0.284572</td>\n",
       "      <td>-0.383181</td>\n",
       "      <td>-0.360847</td>\n",
       "      <td>0.133453</td>\n",
       "    </tr>\n",
       "    <tr>\n",
       "      <th>143</th>\n",
       "      <td>-0.448946</td>\n",
       "      <td>-0.008035</td>\n",
       "      <td>-0.603650</td>\n",
       "      <td>0.745293</td>\n",
       "      <td>-0.528319</td>\n",
       "    </tr>\n",
       "    <tr>\n",
       "      <th>474</th>\n",
       "      <td>-0.251697</td>\n",
       "      <td>-0.517445</td>\n",
       "      <td>-1.044587</td>\n",
       "      <td>-0.786286</td>\n",
       "      <td>-0.693761</td>\n",
       "    </tr>\n",
       "    <tr>\n",
       "      <th>318</th>\n",
       "      <td>-0.218823</td>\n",
       "      <td>0.821575</td>\n",
       "      <td>-0.972105</td>\n",
       "      <td>-0.445935</td>\n",
       "      <td>-0.528319</td>\n",
       "    </tr>\n",
       "    <tr>\n",
       "      <th>132</th>\n",
       "      <td>1.589290</td>\n",
       "      <td>0.297610</td>\n",
       "      <td>-0.349960</td>\n",
       "      <td>-0.275760</td>\n",
       "      <td>-0.693761</td>\n",
       "    </tr>\n",
       "  </tbody>\n",
       "</table>\n",
       "<p>537 rows × 5 columns</p>\n",
       "</div>"
      ],
      "text/plain": [
       "      Glucose       BMI  DiabetesPedigreeFunction       Age  BloodPressure\n",
       "584  0.077050 -0.546554                  0.649699  1.596171       0.298896\n",
       "237  1.885163  1.694848                  0.646679 -0.871374       1.456996\n",
       "715  2.148161  0.210283                  1.069496  0.064591      -1.851862\n",
       "758 -0.514696  0.734247                 -0.830159 -0.616111       0.298896\n",
       "189  0.570172 -0.124472                 -0.334860 -0.701198       0.629782\n",
       "4    0.504422  1.549303                  5.484909 -0.020496      -2.679076\n",
       "292  0.208549  1.578412                  2.271503 -0.190672       0.464339\n",
       "371 -0.120198 -0.022590                  3.802703 -1.041549      -0.693761\n",
       "296  0.800295 -0.648436                 -0.407342 -0.360847      -0.197433\n",
       "128 -0.153073  0.297610                 -0.208015  0.575118       1.291553\n",
       "360  2.213910 -0.182690                  0.335607 -0.360847      -0.693761\n",
       "591 -0.317447  1.010784                 -0.896602 -0.786286       0.464339\n",
       "542 -1.040692  0.355829                  1.066475  1.936522       1.043389\n",
       "425  2.049537  0.661474                 -0.627811 -0.190672       0.464339\n",
       "226 -0.679069  0.472265                 -0.827139 -0.616111       0.298896\n",
       "341 -0.876318 -0.954082                  0.607417  0.234767       0.133453\n",
       "123  0.340048 -0.823091                 -0.863380  3.042663       0.629782\n",
       "152  1.129043  0.268501                  2.165799  0.745293       1.126110\n",
       "480  1.194792  0.443156                 -0.386202  0.149679      -0.197433\n",
       "159  1.359166  1.229102                  1.042315  1.170732      -0.031990\n",
       "377 -1.139316  0.690584                  0.112118 -0.956462      -1.024647\n",
       "551 -1.237941 -0.080808                  0.359768 -0.701198      -0.362876\n",
       "538  0.175675  0.559592                  1.003053 -0.871374       0.629782\n",
       "698  0.175675  0.297610                  0.380909 -0.445935       1.291553\n",
       "714 -0.646195 -0.430118                 -1.059688 -0.105584       0.133453\n",
       "564 -1.007817 -0.008035                  0.389969 -0.531023       0.629782\n",
       "115  0.800295 -0.182690                  0.202722  2.361961       1.622439\n",
       "621 -0.974942 -1.201509                  3.703039 -0.445935       0.298896\n",
       "33  -0.974942 -1.827355                 -0.857340 -0.445935       1.622439\n",
       "587 -0.613320 -1.186955                 -0.673113 -0.360847      -0.528319\n",
       "..        ...       ...                       ...       ...            ...\n",
       "303 -0.218823  2.975649                 -0.793918 -0.445935       2.118768\n",
       "650 -1.007817 -1.055964                 -0.718415 -0.871374      -1.520976\n",
       "160  0.964669 -0.401008                 -0.537208  0.234767       1.456996\n",
       "649 -0.481821 -0.881309                 -1.023447 -0.871374      -1.024647\n",
       "548  1.392041  0.050183                 -0.395262  1.425995       0.795225\n",
       "562 -1.139316  0.748802                 -0.214055 -0.786286      -0.362876\n",
       "109 -0.876318  0.719693                 -0.679153 -0.786286       1.043389\n",
       "492 -0.744819  0.050183                 -0.987205 -0.020496      -0.362876\n",
       "656 -0.679069 -1.550819                 -0.957004 -0.956462      -1.190090\n",
       "201  0.537297  1.112666                 -0.712374 -0.445935       0.795225\n",
       "559 -1.205066 -0.342790                 -0.519087  0.149679       0.133453\n",
       "304  0.931794 -1.667255                 -0.799958  0.319855       0.298896\n",
       "406 -0.218823 -0.517445                 -0.289558  1.085644      -0.031990\n",
       "131  0.011301  0.122956                  1.939290 -0.020496      -1.355533\n",
       "259  1.096168  0.122956                  2.661098  1.511083       0.298896\n",
       "88   0.471547  0.676029                 -0.963044  0.830381      -0.197433\n",
       "167 -0.054449 -0.415563                  0.716142  0.064591      -0.362876\n",
       "641  0.208549  0.268501                 -0.510026 -0.786286      -0.197433\n",
       "453 -0.087324 -1.871019                  1.087616  3.297926      -0.031990\n",
       "500 -0.153073 -1.055964                 -0.479825 -1.041549       1.456996\n",
       "253 -1.172191  0.486820                 -0.706334 -0.701198      -0.362876\n",
       "156 -0.744819 -1.143291                  0.498693 -1.041549      -1.686419\n",
       "136 -0.711944 -0.240908                  0.377888 -1.041549      -0.197433\n",
       "151 -0.251697 -1.536264                 -0.120431  0.319855      -0.611040\n",
       "255 -0.284572  0.166619                  0.214802 -1.041549      -0.693761\n",
       "317  1.983787 -0.284572                 -0.383181 -0.360847       0.133453\n",
       "143 -0.448946 -0.008035                 -0.603650  0.745293      -0.528319\n",
       "474 -0.251697 -0.517445                 -1.044587 -0.786286      -0.693761\n",
       "318 -0.218823  0.821575                 -0.972105 -0.445935      -0.528319\n",
       "132  1.589290  0.297610                 -0.349960 -0.275760      -0.693761\n",
       "\n",
       "[537 rows x 5 columns]"
      ]
     },
     "execution_count": 46,
     "metadata": {},
     "output_type": "execute_result"
    }
   ],
   "source": [
    "X_train"
   ]
  },
  {
   "cell_type": "markdown",
   "metadata": {},
   "source": [
    "## Apply GNaiveBayes and Calculate Score"
   ]
  },
  {
   "cell_type": "code",
   "execution_count": 47,
   "metadata": {},
   "outputs": [
    {
     "name": "stdout",
     "output_type": "stream",
     "text": [
      "0.7965367965367965\n"
     ]
    }
   ],
   "source": [
    "GB_Classifier = GaussianNB()\n",
    "GB_Classifier.fit(X_train, y_train)\n",
    "y_pred = GB_Classifier.predict(X_test)\n",
    "score  = GB_Classifier.score(X_test,y_test)\n",
    "print (score)"
   ]
  },
  {
   "cell_type": "markdown",
   "metadata": {},
   "source": [
    "## Calculate Confusion Matrix, Recall & Precision"
   ]
  },
  {
   "cell_type": "code",
   "execution_count": 48,
   "metadata": {},
   "outputs": [
    {
     "data": {
      "text/plain": [
       "array([[138,  22],\n",
       "       [ 25,  46]], dtype=int64)"
      ]
     },
     "execution_count": 48,
     "metadata": {},
     "output_type": "execute_result"
    }
   ],
   "source": [
    "cm = confusion_matrix(y_test, y_pred)\n",
    "cm"
   ]
  },
  {
   "cell_type": "code",
   "execution_count": 49,
   "metadata": {},
   "outputs": [
    {
     "data": {
      "text/plain": [
       "(231,)"
      ]
     },
     "execution_count": 49,
     "metadata": {},
     "output_type": "execute_result"
    }
   ],
   "source": [
    "y_pred.shape"
   ]
  },
  {
   "cell_type": "code",
   "execution_count": 50,
   "metadata": {},
   "outputs": [
    {
     "name": "stdout",
     "output_type": "stream",
     "text": [
      "              precision    recall  f1-score   support\n",
      "\n",
      "           0       0.85      0.86      0.85       160\n",
      "           1       0.68      0.65      0.66        71\n",
      "\n",
      "   micro avg       0.80      0.80      0.80       231\n",
      "   macro avg       0.76      0.76      0.76       231\n",
      "weighted avg       0.79      0.80      0.80       231\n",
      "\n"
     ]
    }
   ],
   "source": [
    "print(classification_report(y_test, y_pred))"
   ]
  },
  {
   "cell_type": "markdown",
   "metadata": {},
   "source": [
    "##### Inference for Iteration 2 - BloodPressure included  \n",
    "1. The model accuracy (score) is 79.65%\n",
    "2. Precision and recall values are higher for non-diabetic compared to diabetic. \n",
    "This is because of the inherent skew in the available data, where the 'Outcome' has 500 zeros and 268 ones. \n"
   ]
  },
  {
   "cell_type": "markdown",
   "metadata": {},
   "source": [
    "## Plot ROC Curve"
   ]
  },
  {
   "cell_type": "code",
   "execution_count": 33,
   "metadata": {},
   "outputs": [
    {
     "data": {
      "text/plain": [
       "<matplotlib.legend.Legend at 0xb433908>"
      ]
     },
     "execution_count": 33,
     "metadata": {},
     "output_type": "execute_result"
    },
    {
     "data": {
      "image/png": "[encoded data removed]",
      "text/plain": [
       "<Figure size 432x288 with 1 Axes>"
      ]
     },
     "metadata": {
      "needs_background": "light"
     },
     "output_type": "display_data"
    }
   ],
   "source": [
    "fpr, tpr,_=roc_curve(y_pred,y_test,drop_intermediate=False)\n",
    "plt.figure()\n",
    "\n",
    "##Adding the ROC\n",
    "plt.plot(fpr, tpr, color='red', lw=2, label='ROC Curve')\n",
    "\n",
    "##Random FPR and TPR\n",
    "plt.plot([0, 1], [0, 1], color='blue', lw=2, linestyle='--')\n",
    "\n",
    "##Title and label\n",
    "plt.xlabel('FPR')\n",
    "plt.ylabel('TPR')\n",
    "plt.title('ROC Curve')\n",
    "plt.legend()"
   ]
  },
  {
   "cell_type": "markdown",
   "metadata": {},
   "source": [
    "## Inference - Model selection based on two iterations\n",
    "\n",
    "Iteration 1 (BloodPressure NOT included) has higher accuracy (80.52%) than Iteration 2 (BloodPressure included), \n",
    "which has lower accuracy (79.65%).\n",
    "\n",
    "\n",
    "Hence following are the four optimal indicators for building a Gaussian Naive Bayes model \n",
    "\n",
    "a. Glucose \n",
    "\n",
    "b. BMI \n",
    "\n",
    "c. DiabetesPedigreeFunction\n",
    "\n",
    "d. Age"
   ]
  }
 ],
 "metadata": {
  "kernelspec": {
   "display_name": "Python 3",
   "language": "python",
   "name": "python3"
  },
  "language_info": {
   "codemirror_mode": {
    "name": "ipython",
    "version": 3
   },
   "file_extension": ".py",
   "mimetype": "text/x-python",
   "name": "python",
   "nbconvert_exporter": "python",
   "pygments_lexer": "ipython3",
   "version": "3.7.4"
  }
 },
 "nbformat": 4,
 "nbformat_minor": 2
}
